{
  "nbformat": 4,
  "nbformat_minor": 0,
  "metadata": {
    "colab": {
      "provenance": [],
      "collapsed_sections": [
        "cam2kU5bpuw1",
        "oFKMtqkTpx8D"
      ]
    },
    "kernelspec": {
      "name": "python3",
      "display_name": "Python 3"
    },
    "language_info": {
      "name": "python"
    }
  },
  "cells": [
    {
      "cell_type": "markdown",
      "source": [
        "# Power & Language - Topic Model experiments\n",
        "\n",
        "- [Data @OSF](https://osf.io/dwnxt/?view_only=e75faa4f54244361aa198e257b4fecf9)"
      ],
      "metadata": {
        "id": "z_WDjHvL-mJP"
      }
    },
    {
      "cell_type": "code",
      "execution_count": null,
      "metadata": {
        "id": "w9MEj7ez2HwU",
        "colab": {
          "base_uri": "https://localhost:8080/"
        },
        "outputId": "1bfbfa5b-d364-40ef-94c6-20bca1d463e3"
      },
      "outputs": [
        {
          "output_type": "stream",
          "name": "stdout",
          "text": [
            "Looking in indexes: https://pypi.org/simple, https://us-python.pkg.dev/colab-wheels/public/simple/\n",
            "Requirement already satisfied: pandas in /usr/local/lib/python3.7/dist-packages (1.3.5)\n",
            "Requirement already satisfied: numpy in /usr/local/lib/python3.7/dist-packages (1.21.6)\n",
            "Requirement already satisfied: scikit-learn in /usr/local/lib/python3.7/dist-packages (1.0.2)\n",
            "Requirement already satisfied: pytz>=2017.3 in /usr/local/lib/python3.7/dist-packages (from pandas) (2022.4)\n",
            "Requirement already satisfied: python-dateutil>=2.7.3 in /usr/local/lib/python3.7/dist-packages (from pandas) (2.8.2)\n",
            "Requirement already satisfied: six>=1.5 in /usr/local/lib/python3.7/dist-packages (from python-dateutil>=2.7.3->pandas) (1.15.0)\n",
            "Requirement already satisfied: scipy>=1.1.0 in /usr/local/lib/python3.7/dist-packages (from scikit-learn) (1.7.3)\n",
            "Requirement already satisfied: threadpoolctl>=2.0.0 in /usr/local/lib/python3.7/dist-packages (from scikit-learn) (3.1.0)\n",
            "Requirement already satisfied: joblib>=0.11 in /usr/local/lib/python3.7/dist-packages (from scikit-learn) (1.2.0)\n",
            "Looking in indexes: https://pypi.org/simple, https://us-python.pkg.dev/colab-wheels/public/simple/\n",
            "Requirement already satisfied: gensim in /usr/local/lib/python3.7/dist-packages (3.6.0)\n",
            "Requirement already satisfied: six>=1.5.0 in /usr/local/lib/python3.7/dist-packages (from gensim) (1.15.0)\n",
            "Requirement already satisfied: scipy>=0.18.1 in /usr/local/lib/python3.7/dist-packages (from gensim) (1.7.3)\n",
            "Requirement already satisfied: smart-open>=1.2.1 in /usr/local/lib/python3.7/dist-packages (from gensim) (5.2.1)\n",
            "Requirement already satisfied: numpy>=1.11.3 in /usr/local/lib/python3.7/dist-packages (from gensim) (1.21.6)\n",
            "Looking in indexes: https://pypi.org/simple, https://us-python.pkg.dev/colab-wheels/public/simple/\n",
            "Requirement already satisfied: spacy in /usr/local/lib/python3.7/dist-packages (3.4.1)\n",
            "Requirement already satisfied: srsly<3.0.0,>=2.4.3 in /usr/local/lib/python3.7/dist-packages (from spacy) (2.4.4)\n",
            "Requirement already satisfied: requests<3.0.0,>=2.13.0 in /usr/local/lib/python3.7/dist-packages (from spacy) (2.23.0)\n",
            "Requirement already satisfied: murmurhash<1.1.0,>=0.28.0 in /usr/local/lib/python3.7/dist-packages (from spacy) (1.0.8)\n",
            "Requirement already satisfied: cymem<2.1.0,>=2.0.2 in /usr/local/lib/python3.7/dist-packages (from spacy) (2.0.6)\n",
            "Requirement already satisfied: typer<0.5.0,>=0.3.0 in /usr/local/lib/python3.7/dist-packages (from spacy) (0.4.2)\n",
            "Requirement already satisfied: pathy>=0.3.5 in /usr/local/lib/python3.7/dist-packages (from spacy) (0.6.2)\n",
            "Requirement already satisfied: catalogue<2.1.0,>=2.0.6 in /usr/local/lib/python3.7/dist-packages (from spacy) (2.0.8)\n",
            "Requirement already satisfied: spacy-legacy<3.1.0,>=3.0.9 in /usr/local/lib/python3.7/dist-packages (from spacy) (3.0.10)\n",
            "Requirement already satisfied: typing-extensions<4.2.0,>=3.7.4 in /usr/local/lib/python3.7/dist-packages (from spacy) (4.1.1)\n",
            "Requirement already satisfied: jinja2 in /usr/local/lib/python3.7/dist-packages (from spacy) (2.11.3)\n",
            "Requirement already satisfied: wasabi<1.1.0,>=0.9.1 in /usr/local/lib/python3.7/dist-packages (from spacy) (0.10.1)\n",
            "Requirement already satisfied: preshed<3.1.0,>=3.0.2 in /usr/local/lib/python3.7/dist-packages (from spacy) (3.0.7)\n",
            "Requirement already satisfied: spacy-loggers<2.0.0,>=1.0.0 in /usr/local/lib/python3.7/dist-packages (from spacy) (1.0.3)\n",
            "Requirement already satisfied: thinc<8.2.0,>=8.1.0 in /usr/local/lib/python3.7/dist-packages (from spacy) (8.1.3)\n",
            "Requirement already satisfied: langcodes<4.0.0,>=3.2.0 in /usr/local/lib/python3.7/dist-packages (from spacy) (3.3.0)\n",
            "Requirement already satisfied: setuptools in /usr/local/lib/python3.7/dist-packages (from spacy) (57.4.0)\n",
            "Requirement already satisfied: numpy>=1.15.0 in /usr/local/lib/python3.7/dist-packages (from spacy) (1.21.6)\n",
            "Requirement already satisfied: tqdm<5.0.0,>=4.38.0 in /usr/local/lib/python3.7/dist-packages (from spacy) (4.64.1)\n",
            "Requirement already satisfied: pydantic!=1.8,!=1.8.1,<1.10.0,>=1.7.4 in /usr/local/lib/python3.7/dist-packages (from spacy) (1.9.2)\n",
            "Requirement already satisfied: packaging>=20.0 in /usr/local/lib/python3.7/dist-packages (from spacy) (21.3)\n",
            "Requirement already satisfied: zipp>=0.5 in /usr/local/lib/python3.7/dist-packages (from catalogue<2.1.0,>=2.0.6->spacy) (3.9.0)\n",
            "Requirement already satisfied: pyparsing!=3.0.5,>=2.0.2 in /usr/local/lib/python3.7/dist-packages (from packaging>=20.0->spacy) (3.0.9)\n",
            "Requirement already satisfied: smart-open<6.0.0,>=5.2.1 in /usr/local/lib/python3.7/dist-packages (from pathy>=0.3.5->spacy) (5.2.1)\n",
            "Requirement already satisfied: certifi>=2017.4.17 in /usr/local/lib/python3.7/dist-packages (from requests<3.0.0,>=2.13.0->spacy) (2022.9.24)\n",
            "Requirement already satisfied: urllib3!=1.25.0,!=1.25.1,<1.26,>=1.21.1 in /usr/local/lib/python3.7/dist-packages (from requests<3.0.0,>=2.13.0->spacy) (1.24.3)\n",
            "Requirement already satisfied: chardet<4,>=3.0.2 in /usr/local/lib/python3.7/dist-packages (from requests<3.0.0,>=2.13.0->spacy) (3.0.4)\n",
            "Requirement already satisfied: idna<3,>=2.5 in /usr/local/lib/python3.7/dist-packages (from requests<3.0.0,>=2.13.0->spacy) (2.10)\n",
            "Requirement already satisfied: blis<0.8.0,>=0.7.8 in /usr/local/lib/python3.7/dist-packages (from thinc<8.2.0,>=8.1.0->spacy) (0.7.8)\n",
            "Requirement already satisfied: confection<1.0.0,>=0.0.1 in /usr/local/lib/python3.7/dist-packages (from thinc<8.2.0,>=8.1.0->spacy) (0.0.3)\n",
            "Requirement already satisfied: click<9.0.0,>=7.1.1 in /usr/local/lib/python3.7/dist-packages (from typer<0.5.0,>=0.3.0->spacy) (7.1.2)\n",
            "Requirement already satisfied: MarkupSafe>=0.23 in /usr/local/lib/python3.7/dist-packages (from jinja2->spacy) (2.0.1)\n"
          ]
        }
      ],
      "source": [
        "%%bash\n",
        "pip install pandas numpy \\\n",
        "            scikit-learn\n",
        "pip install gensim\n",
        "pip install --upgrade spacy"
      ]
    },
    {
      "cell_type": "markdown",
      "source": [
        "Download data"
      ],
      "metadata": {
        "id": "pGMvmb_U-174"
      }
    },
    {
      "cell_type": "code",
      "source": [
        "%%bash\n",
        "curl -s -L -o osf-files.zip 'https://files.de-1.osf.io/v1/resources/dwnxt/providers/osfstorage/?view_only=e75faa4f54244361aa198e257b4fecf9&zip='\n",
        "unzip osf-files.zip"
      ],
      "metadata": {
        "id": "Eay7fta22Mfj",
        "colab": {
          "base_uri": "https://localhost:8080/"
        },
        "outputId": "00771f81-acd2-4eb3-8349-a8f9c01ea841"
      },
      "execution_count": null,
      "outputs": [
        {
          "output_type": "stream",
          "name": "stdout",
          "text": [
            "Archive:  osf-files.zip\n",
            "  inflating: Online Supplement.pdf   \n",
            "  inflating: Mini Meta/Mini Meta-analysis.xlsx  \n",
            "  inflating: Pilot Study/Data Pilot Study.xlsx  \n",
            "  inflating: Pilot Study/Descriptions.pdf  \n",
            "  inflating: Pilot Study/Data Pilot Study.sav  \n",
            "  inflating: Study 2/Data Study 2.xlsx  \n",
            "  inflating: Study 2/Data Study 2.sav  \n",
            "  inflating: Study 2/Disattenuated Correlations Study 2.xlsx  \n",
            "  inflating: Study 2/Syntax SOA Single Judge Study 2.sps  \n",
            "  inflating: Study 2/Syntax Sensitivity Study 2.sps  \n",
            "  inflating: Study 2/Syntax Consensus Study 2.sps  \n",
            "  inflating: Study 2/Sensitivity Study 2.sav  \n",
            "  inflating: Study 2/SOA Single Judge Study 2.sav  \n",
            "  inflating: Study 2/Sensitivity Single Rater Study 2.sav  \n",
            "  inflating: Study 1/Data Study 1.xlsx  \n",
            "  inflating: Study 1/Syntax Sensitivity Study 1.sps  \n",
            "  inflating: Study 1/SOA Single Judge Study 1.sav  \n",
            "  inflating: Study 1/Syntax Consensus Study 1.sps  \n",
            "  inflating: Study 1/Disattenuated Correlations Study 1.xlsx  \n",
            "  inflating: Study 1/Data Study 1.sav  \n",
            "  inflating: Study 1/Sensitivity Single Rater Study 1.sav  \n",
            "  inflating: Study 1/Syntax SOA Single Judge Study 1.sps  \n",
            "  inflating: Study 1/Sensitivity Study 1.sav  \n"
          ]
        }
      ]
    },
    {
      "cell_type": "markdown",
      "source": [
        "Prepare language models  \n",
        "You may need to restart colab/jupyter kernel (python runtime) the first time to get them to work."
      ],
      "metadata": {
        "id": "7LuMzhqr-4p9"
      }
    },
    {
      "cell_type": "code",
      "source": [
        "! python -m spacy download de_core_news_sm\n",
        "! python -m spacy download de_dep_news_trf"
      ],
      "metadata": {
        "id": "qOVySlktgy4J",
        "colab": {
          "base_uri": "https://localhost:8080/"
        },
        "outputId": "59c9318a-758c-4fd2-d334-fbf84b9426c7"
      },
      "execution_count": null,
      "outputs": [
        {
          "output_type": "stream",
          "name": "stdout",
          "text": [
            "2022-10-17 11:58:34.951104: E tensorflow/stream_executor/cuda/cuda_driver.cc:271] failed call to cuInit: CUDA_ERROR_NO_DEVICE: no CUDA-capable device is detected\n",
            "Looking in indexes: https://pypi.org/simple, https://us-python.pkg.dev/colab-wheels/public/simple/\n",
            "Collecting de-core-news-sm==3.4.0\n",
            "  Downloading https://github.com/explosion/spacy-models/releases/download/de_core_news_sm-3.4.0/de_core_news_sm-3.4.0-py3-none-any.whl (14.6 MB)\n",
            "\u001b[K     |████████████████████████████████| 14.6 MB 7.3 MB/s \n",
            "\u001b[?25hRequirement already satisfied: spacy<3.5.0,>=3.4.0 in /usr/local/lib/python3.7/dist-packages (from de-core-news-sm==3.4.0) (3.4.1)\n",
            "Requirement already satisfied: jinja2 in /usr/local/lib/python3.7/dist-packages (from spacy<3.5.0,>=3.4.0->de-core-news-sm==3.4.0) (2.11.3)\n",
            "Requirement already satisfied: typing-extensions<4.2.0,>=3.7.4 in /usr/local/lib/python3.7/dist-packages (from spacy<3.5.0,>=3.4.0->de-core-news-sm==3.4.0) (4.1.1)\n",
            "Requirement already satisfied: murmurhash<1.1.0,>=0.28.0 in /usr/local/lib/python3.7/dist-packages (from spacy<3.5.0,>=3.4.0->de-core-news-sm==3.4.0) (1.0.8)\n",
            "Requirement already satisfied: tqdm<5.0.0,>=4.38.0 in /usr/local/lib/python3.7/dist-packages (from spacy<3.5.0,>=3.4.0->de-core-news-sm==3.4.0) (4.64.1)\n",
            "Requirement already satisfied: catalogue<2.1.0,>=2.0.6 in /usr/local/lib/python3.7/dist-packages (from spacy<3.5.0,>=3.4.0->de-core-news-sm==3.4.0) (2.0.8)\n",
            "Requirement already satisfied: pathy>=0.3.5 in /usr/local/lib/python3.7/dist-packages (from spacy<3.5.0,>=3.4.0->de-core-news-sm==3.4.0) (0.6.2)\n",
            "Requirement already satisfied: preshed<3.1.0,>=3.0.2 in /usr/local/lib/python3.7/dist-packages (from spacy<3.5.0,>=3.4.0->de-core-news-sm==3.4.0) (3.0.7)\n",
            "Requirement already satisfied: srsly<3.0.0,>=2.4.3 in /usr/local/lib/python3.7/dist-packages (from spacy<3.5.0,>=3.4.0->de-core-news-sm==3.4.0) (2.4.4)\n",
            "Requirement already satisfied: pydantic!=1.8,!=1.8.1,<1.10.0,>=1.7.4 in /usr/local/lib/python3.7/dist-packages (from spacy<3.5.0,>=3.4.0->de-core-news-sm==3.4.0) (1.9.2)\n",
            "Requirement already satisfied: spacy-loggers<2.0.0,>=1.0.0 in /usr/local/lib/python3.7/dist-packages (from spacy<3.5.0,>=3.4.0->de-core-news-sm==3.4.0) (1.0.3)\n",
            "Requirement already satisfied: thinc<8.2.0,>=8.1.0 in /usr/local/lib/python3.7/dist-packages (from spacy<3.5.0,>=3.4.0->de-core-news-sm==3.4.0) (8.1.3)\n",
            "Requirement already satisfied: packaging>=20.0 in /usr/local/lib/python3.7/dist-packages (from spacy<3.5.0,>=3.4.0->de-core-news-sm==3.4.0) (21.3)\n",
            "Requirement already satisfied: requests<3.0.0,>=2.13.0 in /usr/local/lib/python3.7/dist-packages (from spacy<3.5.0,>=3.4.0->de-core-news-sm==3.4.0) (2.23.0)\n",
            "Requirement already satisfied: langcodes<4.0.0,>=3.2.0 in /usr/local/lib/python3.7/dist-packages (from spacy<3.5.0,>=3.4.0->de-core-news-sm==3.4.0) (3.3.0)\n",
            "Requirement already satisfied: spacy-legacy<3.1.0,>=3.0.9 in /usr/local/lib/python3.7/dist-packages (from spacy<3.5.0,>=3.4.0->de-core-news-sm==3.4.0) (3.0.10)\n",
            "Requirement already satisfied: cymem<2.1.0,>=2.0.2 in /usr/local/lib/python3.7/dist-packages (from spacy<3.5.0,>=3.4.0->de-core-news-sm==3.4.0) (2.0.6)\n",
            "Requirement already satisfied: setuptools in /usr/local/lib/python3.7/dist-packages (from spacy<3.5.0,>=3.4.0->de-core-news-sm==3.4.0) (57.4.0)\n",
            "Requirement already satisfied: numpy>=1.15.0 in /usr/local/lib/python3.7/dist-packages (from spacy<3.5.0,>=3.4.0->de-core-news-sm==3.4.0) (1.21.6)\n",
            "Requirement already satisfied: typer<0.5.0,>=0.3.0 in /usr/local/lib/python3.7/dist-packages (from spacy<3.5.0,>=3.4.0->de-core-news-sm==3.4.0) (0.4.2)\n",
            "Requirement already satisfied: wasabi<1.1.0,>=0.9.1 in /usr/local/lib/python3.7/dist-packages (from spacy<3.5.0,>=3.4.0->de-core-news-sm==3.4.0) (0.10.1)\n",
            "Requirement already satisfied: zipp>=0.5 in /usr/local/lib/python3.7/dist-packages (from catalogue<2.1.0,>=2.0.6->spacy<3.5.0,>=3.4.0->de-core-news-sm==3.4.0) (3.9.0)\n",
            "Requirement already satisfied: pyparsing!=3.0.5,>=2.0.2 in /usr/local/lib/python3.7/dist-packages (from packaging>=20.0->spacy<3.5.0,>=3.4.0->de-core-news-sm==3.4.0) (3.0.9)\n",
            "Requirement already satisfied: smart-open<6.0.0,>=5.2.1 in /usr/local/lib/python3.7/dist-packages (from pathy>=0.3.5->spacy<3.5.0,>=3.4.0->de-core-news-sm==3.4.0) (5.2.1)\n",
            "Requirement already satisfied: chardet<4,>=3.0.2 in /usr/local/lib/python3.7/dist-packages (from requests<3.0.0,>=2.13.0->spacy<3.5.0,>=3.4.0->de-core-news-sm==3.4.0) (3.0.4)\n",
            "Requirement already satisfied: urllib3!=1.25.0,!=1.25.1,<1.26,>=1.21.1 in /usr/local/lib/python3.7/dist-packages (from requests<3.0.0,>=2.13.0->spacy<3.5.0,>=3.4.0->de-core-news-sm==3.4.0) (1.24.3)\n",
            "Requirement already satisfied: idna<3,>=2.5 in /usr/local/lib/python3.7/dist-packages (from requests<3.0.0,>=2.13.0->spacy<3.5.0,>=3.4.0->de-core-news-sm==3.4.0) (2.10)\n",
            "Requirement already satisfied: certifi>=2017.4.17 in /usr/local/lib/python3.7/dist-packages (from requests<3.0.0,>=2.13.0->spacy<3.5.0,>=3.4.0->de-core-news-sm==3.4.0) (2022.9.24)\n",
            "Requirement already satisfied: blis<0.8.0,>=0.7.8 in /usr/local/lib/python3.7/dist-packages (from thinc<8.2.0,>=8.1.0->spacy<3.5.0,>=3.4.0->de-core-news-sm==3.4.0) (0.7.8)\n",
            "Requirement already satisfied: confection<1.0.0,>=0.0.1 in /usr/local/lib/python3.7/dist-packages (from thinc<8.2.0,>=8.1.0->spacy<3.5.0,>=3.4.0->de-core-news-sm==3.4.0) (0.0.3)\n",
            "Requirement already satisfied: click<9.0.0,>=7.1.1 in /usr/local/lib/python3.7/dist-packages (from typer<0.5.0,>=0.3.0->spacy<3.5.0,>=3.4.0->de-core-news-sm==3.4.0) (7.1.2)\n",
            "Requirement already satisfied: MarkupSafe>=0.23 in /usr/local/lib/python3.7/dist-packages (from jinja2->spacy<3.5.0,>=3.4.0->de-core-news-sm==3.4.0) (2.0.1)\n",
            "Installing collected packages: de-core-news-sm\n",
            "Successfully installed de-core-news-sm-3.4.0\n",
            "\u001b[38;5;2m✔ Download and installation successful\u001b[0m\n",
            "You can now load the package via spacy.load('de_core_news_sm')\n",
            "2022-10-17 11:58:51.017173: E tensorflow/stream_executor/cuda/cuda_driver.cc:271] failed call to cuInit: CUDA_ERROR_NO_DEVICE: no CUDA-capable device is detected\n",
            "Looking in indexes: https://pypi.org/simple, https://us-python.pkg.dev/colab-wheels/public/simple/\n",
            "Collecting de-dep-news-trf==3.4.0\n",
            "  Downloading https://github.com/explosion/spacy-models/releases/download/de_dep_news_trf-3.4.0/de_dep_news_trf-3.4.0-py3-none-any.whl (412.8 MB)\n",
            "\u001b[K     |████████████████████████████████| 412.8 MB 25 kB/s \n",
            "\u001b[?25hCollecting spacy-transformers<1.2.0,>=1.1.2\n",
            "  Downloading spacy_transformers-1.1.8-py2.py3-none-any.whl (53 kB)\n",
            "\u001b[K     |████████████████████████████████| 53 kB 1.8 MB/s \n",
            "\u001b[?25hRequirement already satisfied: spacy<3.5.0,>=3.4.0 in /usr/local/lib/python3.7/dist-packages (from de-dep-news-trf==3.4.0) (3.4.1)\n",
            "Requirement already satisfied: jinja2 in /usr/local/lib/python3.7/dist-packages (from spacy<3.5.0,>=3.4.0->de-dep-news-trf==3.4.0) (2.11.3)\n",
            "Requirement already satisfied: cymem<2.1.0,>=2.0.2 in /usr/local/lib/python3.7/dist-packages (from spacy<3.5.0,>=3.4.0->de-dep-news-trf==3.4.0) (2.0.6)\n",
            "Requirement already satisfied: langcodes<4.0.0,>=3.2.0 in /usr/local/lib/python3.7/dist-packages (from spacy<3.5.0,>=3.4.0->de-dep-news-trf==3.4.0) (3.3.0)\n",
            "Requirement already satisfied: requests<3.0.0,>=2.13.0 in /usr/local/lib/python3.7/dist-packages (from spacy<3.5.0,>=3.4.0->de-dep-news-trf==3.4.0) (2.23.0)\n",
            "Requirement already satisfied: spacy-loggers<2.0.0,>=1.0.0 in /usr/local/lib/python3.7/dist-packages (from spacy<3.5.0,>=3.4.0->de-dep-news-trf==3.4.0) (1.0.3)\n",
            "Requirement already satisfied: murmurhash<1.1.0,>=0.28.0 in /usr/local/lib/python3.7/dist-packages (from spacy<3.5.0,>=3.4.0->de-dep-news-trf==3.4.0) (1.0.8)\n",
            "Requirement already satisfied: catalogue<2.1.0,>=2.0.6 in /usr/local/lib/python3.7/dist-packages (from spacy<3.5.0,>=3.4.0->de-dep-news-trf==3.4.0) (2.0.8)\n",
            "Requirement already satisfied: pathy>=0.3.5 in /usr/local/lib/python3.7/dist-packages (from spacy<3.5.0,>=3.4.0->de-dep-news-trf==3.4.0) (0.6.2)\n",
            "Requirement already satisfied: pydantic!=1.8,!=1.8.1,<1.10.0,>=1.7.4 in /usr/local/lib/python3.7/dist-packages (from spacy<3.5.0,>=3.4.0->de-dep-news-trf==3.4.0) (1.9.2)\n",
            "Requirement already satisfied: preshed<3.1.0,>=3.0.2 in /usr/local/lib/python3.7/dist-packages (from spacy<3.5.0,>=3.4.0->de-dep-news-trf==3.4.0) (3.0.7)\n",
            "Requirement already satisfied: typer<0.5.0,>=0.3.0 in /usr/local/lib/python3.7/dist-packages (from spacy<3.5.0,>=3.4.0->de-dep-news-trf==3.4.0) (0.4.2)\n",
            "Requirement already satisfied: thinc<8.2.0,>=8.1.0 in /usr/local/lib/python3.7/dist-packages (from spacy<3.5.0,>=3.4.0->de-dep-news-trf==3.4.0) (8.1.3)\n",
            "Requirement already satisfied: setuptools in /usr/local/lib/python3.7/dist-packages (from spacy<3.5.0,>=3.4.0->de-dep-news-trf==3.4.0) (57.4.0)\n",
            "Requirement already satisfied: wasabi<1.1.0,>=0.9.1 in /usr/local/lib/python3.7/dist-packages (from spacy<3.5.0,>=3.4.0->de-dep-news-trf==3.4.0) (0.10.1)\n",
            "Requirement already satisfied: typing-extensions<4.2.0,>=3.7.4 in /usr/local/lib/python3.7/dist-packages (from spacy<3.5.0,>=3.4.0->de-dep-news-trf==3.4.0) (4.1.1)\n",
            "Requirement already satisfied: numpy>=1.15.0 in /usr/local/lib/python3.7/dist-packages (from spacy<3.5.0,>=3.4.0->de-dep-news-trf==3.4.0) (1.21.6)\n",
            "Requirement already satisfied: packaging>=20.0 in /usr/local/lib/python3.7/dist-packages (from spacy<3.5.0,>=3.4.0->de-dep-news-trf==3.4.0) (21.3)\n",
            "Requirement already satisfied: tqdm<5.0.0,>=4.38.0 in /usr/local/lib/python3.7/dist-packages (from spacy<3.5.0,>=3.4.0->de-dep-news-trf==3.4.0) (4.64.1)\n",
            "Requirement already satisfied: srsly<3.0.0,>=2.4.3 in /usr/local/lib/python3.7/dist-packages (from spacy<3.5.0,>=3.4.0->de-dep-news-trf==3.4.0) (2.4.4)\n",
            "Requirement already satisfied: spacy-legacy<3.1.0,>=3.0.9 in /usr/local/lib/python3.7/dist-packages (from spacy<3.5.0,>=3.4.0->de-dep-news-trf==3.4.0) (3.0.10)\n",
            "Requirement already satisfied: zipp>=0.5 in /usr/local/lib/python3.7/dist-packages (from catalogue<2.1.0,>=2.0.6->spacy<3.5.0,>=3.4.0->de-dep-news-trf==3.4.0) (3.9.0)\n",
            "Requirement already satisfied: pyparsing!=3.0.5,>=2.0.2 in /usr/local/lib/python3.7/dist-packages (from packaging>=20.0->spacy<3.5.0,>=3.4.0->de-dep-news-trf==3.4.0) (3.0.9)\n",
            "Requirement already satisfied: smart-open<6.0.0,>=5.2.1 in /usr/local/lib/python3.7/dist-packages (from pathy>=0.3.5->spacy<3.5.0,>=3.4.0->de-dep-news-trf==3.4.0) (5.2.1)\n",
            "Requirement already satisfied: certifi>=2017.4.17 in /usr/local/lib/python3.7/dist-packages (from requests<3.0.0,>=2.13.0->spacy<3.5.0,>=3.4.0->de-dep-news-trf==3.4.0) (2022.9.24)\n",
            "Requirement already satisfied: idna<3,>=2.5 in /usr/local/lib/python3.7/dist-packages (from requests<3.0.0,>=2.13.0->spacy<3.5.0,>=3.4.0->de-dep-news-trf==3.4.0) (2.10)\n",
            "Requirement already satisfied: chardet<4,>=3.0.2 in /usr/local/lib/python3.7/dist-packages (from requests<3.0.0,>=2.13.0->spacy<3.5.0,>=3.4.0->de-dep-news-trf==3.4.0) (3.0.4)\n",
            "Requirement already satisfied: urllib3!=1.25.0,!=1.25.1,<1.26,>=1.21.1 in /usr/local/lib/python3.7/dist-packages (from requests<3.0.0,>=2.13.0->spacy<3.5.0,>=3.4.0->de-dep-news-trf==3.4.0) (1.24.3)\n",
            "Collecting transformers<4.22.0,>=3.4.0\n",
            "  Downloading transformers-4.21.3-py3-none-any.whl (4.7 MB)\n",
            "\u001b[K     |████████████████████████████████| 4.7 MB 13.4 MB/s \n",
            "\u001b[?25hCollecting spacy-alignments<1.0.0,>=0.7.2\n",
            "  Downloading spacy_alignments-0.8.5-cp37-cp37m-manylinux_2_17_x86_64.manylinux2014_x86_64.whl (1.1 MB)\n",
            "\u001b[K     |████████████████████████████████| 1.1 MB 64.7 MB/s \n",
            "\u001b[?25hRequirement already satisfied: torch>=1.6.0 in /usr/local/lib/python3.7/dist-packages (from spacy-transformers<1.2.0,>=1.1.2->de-dep-news-trf==3.4.0) (1.12.1+cu113)\n",
            "Requirement already satisfied: blis<0.8.0,>=0.7.8 in /usr/local/lib/python3.7/dist-packages (from thinc<8.2.0,>=8.1.0->spacy<3.5.0,>=3.4.0->de-dep-news-trf==3.4.0) (0.7.8)\n",
            "Requirement already satisfied: confection<1.0.0,>=0.0.1 in /usr/local/lib/python3.7/dist-packages (from thinc<8.2.0,>=8.1.0->spacy<3.5.0,>=3.4.0->de-dep-news-trf==3.4.0) (0.0.3)\n",
            "Collecting huggingface-hub<1.0,>=0.1.0\n",
            "  Downloading huggingface_hub-0.10.1-py3-none-any.whl (163 kB)\n",
            "\u001b[K     |████████████████████████████████| 163 kB 68.2 MB/s \n",
            "\u001b[?25hRequirement already satisfied: pyyaml>=5.1 in /usr/local/lib/python3.7/dist-packages (from transformers<4.22.0,>=3.4.0->spacy-transformers<1.2.0,>=1.1.2->de-dep-news-trf==3.4.0) (6.0)\n",
            "Requirement already satisfied: importlib-metadata in /usr/local/lib/python3.7/dist-packages (from transformers<4.22.0,>=3.4.0->spacy-transformers<1.2.0,>=1.1.2->de-dep-news-trf==3.4.0) (5.0.0)\n",
            "Collecting tokenizers!=0.11.3,<0.13,>=0.11.1\n",
            "  Downloading tokenizers-0.12.1-cp37-cp37m-manylinux_2_12_x86_64.manylinux2010_x86_64.whl (6.6 MB)\n",
            "\u001b[K     |████████████████████████████████| 6.6 MB 51.7 MB/s \n",
            "\u001b[?25hRequirement already satisfied: regex!=2019.12.17 in /usr/local/lib/python3.7/dist-packages (from transformers<4.22.0,>=3.4.0->spacy-transformers<1.2.0,>=1.1.2->de-dep-news-trf==3.4.0) (2022.6.2)\n",
            "Requirement already satisfied: filelock in /usr/local/lib/python3.7/dist-packages (from transformers<4.22.0,>=3.4.0->spacy-transformers<1.2.0,>=1.1.2->de-dep-news-trf==3.4.0) (3.8.0)\n",
            "Requirement already satisfied: click<9.0.0,>=7.1.1 in /usr/local/lib/python3.7/dist-packages (from typer<0.5.0,>=0.3.0->spacy<3.5.0,>=3.4.0->de-dep-news-trf==3.4.0) (7.1.2)\n",
            "Requirement already satisfied: MarkupSafe>=0.23 in /usr/local/lib/python3.7/dist-packages (from jinja2->spacy<3.5.0,>=3.4.0->de-dep-news-trf==3.4.0) (2.0.1)\n",
            "Installing collected packages: tokenizers, huggingface-hub, transformers, spacy-alignments, spacy-transformers, de-dep-news-trf\n",
            "Successfully installed de-dep-news-trf-3.4.0 huggingface-hub-0.10.1 spacy-alignments-0.8.5 spacy-transformers-1.1.8 tokenizers-0.12.1 transformers-4.21.3\n",
            "\u001b[38;5;2m✔ Download and installation successful\u001b[0m\n",
            "You can now load the package via spacy.load('de_dep_news_trf')\n"
          ]
        }
      ]
    },
    {
      "cell_type": "code",
      "source": [
        "import nltk\n",
        "nltk.download('stopwords')"
      ],
      "metadata": {
        "id": "lNfm5Lgehwtk",
        "colab": {
          "base_uri": "https://localhost:8080/"
        },
        "outputId": "3178af33-840f-47f6-ac77-a9d86939b8a1"
      },
      "execution_count": null,
      "outputs": [
        {
          "output_type": "stream",
          "name": "stderr",
          "text": [
            "[nltk_data] Downloading package stopwords to /root/nltk_data...\n",
            "[nltk_data]   Unzipping corpora/stopwords.zip.\n"
          ]
        },
        {
          "output_type": "execute_result",
          "data": {
            "text/plain": [
              "True"
            ]
          },
          "metadata": {},
          "execution_count": 4
        }
      ]
    },
    {
      "cell_type": "code",
      "source": [
        "import warnings\n",
        "warnings.filterwarnings(\"ignore\", category=DeprecationWarning)\n",
        "warnings.filterwarnings(\"ignore\", category=FutureWarning)"
      ],
      "metadata": {
        "id": "mvE2S0QW2TGX"
      },
      "execution_count": null,
      "outputs": []
    },
    {
      "cell_type": "code",
      "source": [
        "import re\n",
        "\n",
        "import numpy as np\n",
        "import pandas as pd\n",
        "\n",
        "import gensim\n",
        "import nltk\n",
        "import spacy"
      ],
      "metadata": {
        "id": "rI1P9VytfXUP"
      },
      "execution_count": null,
      "outputs": []
    },
    {
      "cell_type": "code",
      "source": [
        "import spacy\n",
        "    \n",
        "import de_core_news_sm\n",
        "import de_dep_news_trf\n",
        "\n",
        "nlp = de_core_news_sm.load()\n",
        "nlp = de_dep_news_trf.load()\n",
        "\n",
        "#nlp = spacy.load(\"de_core_news_sm\")\n",
        "#nlp = spacy.load(\"de_dep_news_trf\")"
      ],
      "metadata": {
        "id": "PjQQnZjrpo-d"
      },
      "execution_count": null,
      "outputs": []
    },
    {
      "cell_type": "markdown",
      "source": [
        "## Load study data"
      ],
      "metadata": {
        "id": "cam2kU5bpuw1"
      }
    },
    {
      "cell_type": "code",
      "source": [
        "def load_study1():\n",
        "    df_study1 = pd.read_excel(\"Study 1/Data Study 1.xlsx\")\n",
        "    #print(df_study1.columns.to_list())\n",
        "\n",
        "    # just keep useful columns\n",
        "    df_study1 = df_study1[[\n",
        "        # id\n",
        "        \"ID\",\n",
        "        # raw text\n",
        "        \"SourceB\",\n",
        "        # other meta\n",
        "        \"Alter\", \"Geschlecht\",\n",
        "        # self-evaluation (mean)\n",
        "        \"Power_mean\", \"Dom_mean\", \"Pres_mean\",\n",
        "        # outside-evaluation (mean)\n",
        "        \"Power_F\", \"Dom_F\", \"Pres_F\"\n",
        "    ]]\n",
        "\n",
        "    # rename columns\n",
        "    df_study1.rename(columns={\n",
        "        \"SourceB\": \"text\", \"Alter\": \"age\", \"Geschlecht\": \"gender\",\n",
        "        \"Power_mean\": \"power\", \"Dom_mean\": \"dominance\", \"Pres_mean\": \"prestige\",\n",
        "        \"Power_F\": \"power_f\", \"Dom_F\": \"dominance_f\", \"Pres_F\": \"prestige_f\",\n",
        "    }, inplace=True)\n",
        "    \n",
        "    return df_study1\n",
        "\n",
        "\n",
        "def load_study2():\n",
        "    df_study2 = pd.read_excel(\"Study 2/Data Study 2.xlsx\")\n",
        "    #print(df_study2.columns.to_list())\n",
        "\n",
        "    # just keep useful columns\n",
        "    df_study2 = df_study2[[\n",
        "        # id\n",
        "        \"ID\",\n",
        "        # raw text\n",
        "        \"SourceA\",\n",
        "        # other meta\n",
        "        \"Alter\", \"Geschlecht\",\n",
        "        # self-evaluation (mean)\n",
        "        \"Power_means\", \"Dominanz_means\", \"Prestige_means\",\n",
        "        # outside-evaluation (mean)\n",
        "        \"Power_Fremdgesamt_means\", \"Dominanz_Fremdgesamt_means\", \"Prestige_Fremdgesamt_means\",\n",
        "        # WP?\n",
        "        #\"WP_means\",, \"WP_Fremdgesamt_means\",\n",
        "    ]]\n",
        "\n",
        "    # rename columns\n",
        "    df_study2.rename(columns={\n",
        "        \"SourceA\": \"text\", \"Alter\": \"age\", \"Geschlecht\": \"gender\",\n",
        "        \"Power_means\": \"power\", \"Dominanz_means\": \"dominance\", \"Prestige_means\": \"prestige\",\n",
        "        \"Power_Fremdgesamt_means\": \"power_f\", \"Dominanz_Fremdgesamt_means\": \"dominance_f\", \"Prestige_Fremdgesamt_means\": \"prestige_f\",\n",
        "        \"WP_means\": \"wp\", \"WP_Fremdgesamt_means\": \"wp_f\",\n",
        "    }, inplace=True)\n",
        "\n",
        "    return df_study2"
      ],
      "metadata": {
        "id": "H8EtUPpQ2Mkh"
      },
      "execution_count": null,
      "outputs": []
    },
    {
      "cell_type": "code",
      "source": [
        "#df_study1 = load_study1()\n",
        "#df_study1.head()"
      ],
      "metadata": {
        "id": "Lk52Gym5yJie"
      },
      "execution_count": null,
      "outputs": []
    },
    {
      "cell_type": "code",
      "source": [
        "#df_study2 = load_study2()\n",
        "#df_study2.head()"
      ],
      "metadata": {
        "id": "2C-qGoEIyZV0"
      },
      "execution_count": null,
      "outputs": []
    },
    {
      "cell_type": "markdown",
      "source": [
        "## Cleanup data"
      ],
      "metadata": {
        "id": "oFKMtqkTpx8D"
      }
    },
    {
      "cell_type": "code",
      "source": [
        "def nlpize(df, nlp_fn):\n",
        "    return df.map(nlp_fn)\n",
        "\n",
        "\n",
        "def clean(df, stopwords=False, alpha=False, punctuation=True):\n",
        "    # filter out stopwords\n",
        "    if stopwords:\n",
        "        df = df.map(lambda doc: list(filter(lambda tok: not tok.is_stop, doc)))\n",
        "\n",
        "    # filter alphanumerical\n",
        "    if alpha:\n",
        "        df = df.map(lambda doc: list(filter(lambda tok: tok.is_alpha, doc)))\n",
        "\n",
        "    # filter out punctuation\n",
        "    if punctuation:\n",
        "        df = df.map(lambda doc: list(filter(lambda tok: tok.pos_ not in (\"PUNCT\"), doc)))\n",
        "\n",
        "    return df\n",
        "\n",
        "\n",
        "def remove_punct(df):\n",
        "    return df.map(lambda x: re.sub(r\"[,\\.!?]\", '', x))\n",
        "\n",
        "\n",
        "def lowercase_text(df):\n",
        "    return df.map(lambda x: x.lower())\n",
        "\n",
        "\n",
        "def get_text_by_pos(df, pos_list=(\"NOUN\",), lemma=False, join=True):\n",
        "    # filter each token by correct pos tag\n",
        "    if pos_list:\n",
        "      df = df.map(lambda x: list(filter(lambda tok: tok.pos_ in pos_list, x)))\n",
        "\n",
        "    # convert tokens back to strings\n",
        "    #df = df.map(lambda x: \" \".join(map(str, x)))\n",
        "    if lemma:\n",
        "        df = df.map(lambda x: \" \".join(map(lambda tok: tok.lemma_, x)))\n",
        "    else:\n",
        "        df = df.map(lambda x: \" \".join(map(lambda tok: tok.text, x)))\n",
        "    \n",
        "    # concat to single text\n",
        "    if not join:\n",
        "        return df\n",
        "\n",
        "    return ','.join(df.values.tolist())"
      ],
      "metadata": {
        "id": "-H1YmjJNnrdd"
      },
      "execution_count": null,
      "outputs": []
    },
    {
      "cell_type": "markdown",
      "source": [
        "## Analyze"
      ],
      "metadata": {
        "id": "TdHWqbPSqUSf"
      }
    },
    {
      "cell_type": "markdown",
      "source": [
        "### Look at the data"
      ],
      "metadata": {
        "id": "ePrlfbGiMKKZ"
      }
    },
    {
      "cell_type": "code",
      "source": [
        "df_study1t = pd.read_excel(\"Study 1/Data Study 1.xlsx\")\n",
        "\n",
        "df_study1t[[\"Power_mean\", \"Dom_mean\", \"Pres_mean\"]].describe()\n",
        "\n",
        "cols = [\n",
        "    'Power1', 'Power2', 'Power3', 'Power4', 'Power5', 'Power6', 'Power7', 'Power8',\n",
        "    'Dom1', 'Dom2', 'Dom3', 'Dom4', 'Dom5', 'Dom6', 'Dom7', 'Dom8',\n",
        "    'Pres1', 'Pres2', 'Pres3', 'Pres4', 'Pres5', 'Pres6', 'Pres7', 'Pres8', 'Pres9',\n",
        "]\n",
        "df_study1t[cols].describe()\n",
        "# values from 1..7 / -9?"
      ],
      "metadata": {
        "colab": {
          "base_uri": "https://localhost:8080/",
          "height": 393
        },
        "id": "sYCUBhMZMJYe",
        "outputId": "b9cf465a-640a-44d6-fd32-10977fa0083e"
      },
      "execution_count": null,
      "outputs": [
        {
          "output_type": "execute_result",
          "data": {
            "text/plain": [
              "          Power1      Power2      Power3      Power4      Power5     Power6  \\\n",
              "count  200.00000  200.000000  200.000000  200.000000  200.000000  200.00000   \n",
              "mean     5.55500    4.510000    4.785000    5.260000    3.555000    5.23500   \n",
              "std      1.17639    2.286051    1.275504    1.349632    1.458634    1.65938   \n",
              "min      2.00000   -9.000000    1.000000    2.000000    1.000000   -9.00000   \n",
              "25%      5.00000    3.000000    4.000000    5.000000    2.000000    5.00000   \n",
              "50%      6.00000    5.000000    5.000000    6.000000    4.000000    6.00000   \n",
              "75%      6.00000    6.000000    6.000000    6.000000    5.000000    6.00000   \n",
              "max      7.00000    7.000000    7.000000    7.000000    7.000000    7.00000   \n",
              "\n",
              "           Power7      Power8        Dom1        Dom2  ...       Dom8  \\\n",
              "count  200.000000  200.000000  200.000000  200.000000  ...  200.00000   \n",
              "mean     5.520000    5.415000    2.885000    3.025000  ...    2.61000   \n",
              "std      1.341116    1.400924    1.736911    1.454287  ...    1.72417   \n",
              "min      1.000000    1.000000   -9.000000    1.000000  ...    1.00000   \n",
              "25%      5.000000    5.000000    2.000000    2.000000  ...    1.00000   \n",
              "50%      6.000000    6.000000    3.000000    3.000000  ...    2.00000   \n",
              "75%      7.000000    6.000000    4.000000    4.000000  ...    4.00000   \n",
              "max      7.000000    7.000000    7.000000    7.000000  ...    7.00000   \n",
              "\n",
              "            Pres1       Pres2       Pres3       Pres4       Pres5       Pres6  \\\n",
              "count  200.000000  200.000000  200.000000  200.000000  200.000000  200.000000   \n",
              "mean     5.145000    4.875000    3.780000    5.815000    5.635000    5.040000   \n",
              "std      0.953162    1.251883    2.096084    1.523938    0.967707    1.251492   \n",
              "min      2.000000    1.000000   -9.000000   -9.000000    1.000000    1.000000   \n",
              "25%      5.000000    4.000000    3.000000    5.000000    5.000000    5.000000   \n",
              "50%      5.000000    5.000000    4.000000    6.000000    6.000000    5.000000   \n",
              "75%      6.000000    6.000000    5.000000    7.000000    6.000000    6.000000   \n",
              "max      7.000000    7.000000    7.000000    7.000000    7.000000    7.000000   \n",
              "\n",
              "            Pres7       Pres8       Pres9  \n",
              "count  200.000000  200.000000  200.000000  \n",
              "mean     5.465000    5.085000    5.260000  \n",
              "std      1.529862    1.643558    1.760082  \n",
              "min     -9.000000   -9.000000   -9.000000  \n",
              "25%      5.000000    5.000000    4.000000  \n",
              "50%      6.000000    5.000000    6.000000  \n",
              "75%      6.000000    6.000000    6.000000  \n",
              "max      7.000000    7.000000    7.000000  \n",
              "\n",
              "[8 rows x 25 columns]"
            ],
            "text/html": [
              "\n",
              "  <div id=\"df-76a89fdf-1da3-49e1-a375-b5cde67d1b91\">\n",
              "    <div class=\"colab-df-container\">\n",
              "      <div>\n",
              "<style scoped>\n",
              "    .dataframe tbody tr th:only-of-type {\n",
              "        vertical-align: middle;\n",
              "    }\n",
              "\n",
              "    .dataframe tbody tr th {\n",
              "        vertical-align: top;\n",
              "    }\n",
              "\n",
              "    .dataframe thead th {\n",
              "        text-align: right;\n",
              "    }\n",
              "</style>\n",
              "<table border=\"1\" class=\"dataframe\">\n",
              "  <thead>\n",
              "    <tr style=\"text-align: right;\">\n",
              "      <th></th>\n",
              "      <th>Power1</th>\n",
              "      <th>Power2</th>\n",
              "      <th>Power3</th>\n",
              "      <th>Power4</th>\n",
              "      <th>Power5</th>\n",
              "      <th>Power6</th>\n",
              "      <th>Power7</th>\n",
              "      <th>Power8</th>\n",
              "      <th>Dom1</th>\n",
              "      <th>Dom2</th>\n",
              "      <th>...</th>\n",
              "      <th>Dom8</th>\n",
              "      <th>Pres1</th>\n",
              "      <th>Pres2</th>\n",
              "      <th>Pres3</th>\n",
              "      <th>Pres4</th>\n",
              "      <th>Pres5</th>\n",
              "      <th>Pres6</th>\n",
              "      <th>Pres7</th>\n",
              "      <th>Pres8</th>\n",
              "      <th>Pres9</th>\n",
              "    </tr>\n",
              "  </thead>\n",
              "  <tbody>\n",
              "    <tr>\n",
              "      <th>count</th>\n",
              "      <td>200.00000</td>\n",
              "      <td>200.000000</td>\n",
              "      <td>200.000000</td>\n",
              "      <td>200.000000</td>\n",
              "      <td>200.000000</td>\n",
              "      <td>200.00000</td>\n",
              "      <td>200.000000</td>\n",
              "      <td>200.000000</td>\n",
              "      <td>200.000000</td>\n",
              "      <td>200.000000</td>\n",
              "      <td>...</td>\n",
              "      <td>200.00000</td>\n",
              "      <td>200.000000</td>\n",
              "      <td>200.000000</td>\n",
              "      <td>200.000000</td>\n",
              "      <td>200.000000</td>\n",
              "      <td>200.000000</td>\n",
              "      <td>200.000000</td>\n",
              "      <td>200.000000</td>\n",
              "      <td>200.000000</td>\n",
              "      <td>200.000000</td>\n",
              "    </tr>\n",
              "    <tr>\n",
              "      <th>mean</th>\n",
              "      <td>5.55500</td>\n",
              "      <td>4.510000</td>\n",
              "      <td>4.785000</td>\n",
              "      <td>5.260000</td>\n",
              "      <td>3.555000</td>\n",
              "      <td>5.23500</td>\n",
              "      <td>5.520000</td>\n",
              "      <td>5.415000</td>\n",
              "      <td>2.885000</td>\n",
              "      <td>3.025000</td>\n",
              "      <td>...</td>\n",
              "      <td>2.61000</td>\n",
              "      <td>5.145000</td>\n",
              "      <td>4.875000</td>\n",
              "      <td>3.780000</td>\n",
              "      <td>5.815000</td>\n",
              "      <td>5.635000</td>\n",
              "      <td>5.040000</td>\n",
              "      <td>5.465000</td>\n",
              "      <td>5.085000</td>\n",
              "      <td>5.260000</td>\n",
              "    </tr>\n",
              "    <tr>\n",
              "      <th>std</th>\n",
              "      <td>1.17639</td>\n",
              "      <td>2.286051</td>\n",
              "      <td>1.275504</td>\n",
              "      <td>1.349632</td>\n",
              "      <td>1.458634</td>\n",
              "      <td>1.65938</td>\n",
              "      <td>1.341116</td>\n",
              "      <td>1.400924</td>\n",
              "      <td>1.736911</td>\n",
              "      <td>1.454287</td>\n",
              "      <td>...</td>\n",
              "      <td>1.72417</td>\n",
              "      <td>0.953162</td>\n",
              "      <td>1.251883</td>\n",
              "      <td>2.096084</td>\n",
              "      <td>1.523938</td>\n",
              "      <td>0.967707</td>\n",
              "      <td>1.251492</td>\n",
              "      <td>1.529862</td>\n",
              "      <td>1.643558</td>\n",
              "      <td>1.760082</td>\n",
              "    </tr>\n",
              "    <tr>\n",
              "      <th>min</th>\n",
              "      <td>2.00000</td>\n",
              "      <td>-9.000000</td>\n",
              "      <td>1.000000</td>\n",
              "      <td>2.000000</td>\n",
              "      <td>1.000000</td>\n",
              "      <td>-9.00000</td>\n",
              "      <td>1.000000</td>\n",
              "      <td>1.000000</td>\n",
              "      <td>-9.000000</td>\n",
              "      <td>1.000000</td>\n",
              "      <td>...</td>\n",
              "      <td>1.00000</td>\n",
              "      <td>2.000000</td>\n",
              "      <td>1.000000</td>\n",
              "      <td>-9.000000</td>\n",
              "      <td>-9.000000</td>\n",
              "      <td>1.000000</td>\n",
              "      <td>1.000000</td>\n",
              "      <td>-9.000000</td>\n",
              "      <td>-9.000000</td>\n",
              "      <td>-9.000000</td>\n",
              "    </tr>\n",
              "    <tr>\n",
              "      <th>25%</th>\n",
              "      <td>5.00000</td>\n",
              "      <td>3.000000</td>\n",
              "      <td>4.000000</td>\n",
              "      <td>5.000000</td>\n",
              "      <td>2.000000</td>\n",
              "      <td>5.00000</td>\n",
              "      <td>5.000000</td>\n",
              "      <td>5.000000</td>\n",
              "      <td>2.000000</td>\n",
              "      <td>2.000000</td>\n",
              "      <td>...</td>\n",
              "      <td>1.00000</td>\n",
              "      <td>5.000000</td>\n",
              "      <td>4.000000</td>\n",
              "      <td>3.000000</td>\n",
              "      <td>5.000000</td>\n",
              "      <td>5.000000</td>\n",
              "      <td>5.000000</td>\n",
              "      <td>5.000000</td>\n",
              "      <td>5.000000</td>\n",
              "      <td>4.000000</td>\n",
              "    </tr>\n",
              "    <tr>\n",
              "      <th>50%</th>\n",
              "      <td>6.00000</td>\n",
              "      <td>5.000000</td>\n",
              "      <td>5.000000</td>\n",
              "      <td>6.000000</td>\n",
              "      <td>4.000000</td>\n",
              "      <td>6.00000</td>\n",
              "      <td>6.000000</td>\n",
              "      <td>6.000000</td>\n",
              "      <td>3.000000</td>\n",
              "      <td>3.000000</td>\n",
              "      <td>...</td>\n",
              "      <td>2.00000</td>\n",
              "      <td>5.000000</td>\n",
              "      <td>5.000000</td>\n",
              "      <td>4.000000</td>\n",
              "      <td>6.000000</td>\n",
              "      <td>6.000000</td>\n",
              "      <td>5.000000</td>\n",
              "      <td>6.000000</td>\n",
              "      <td>5.000000</td>\n",
              "      <td>6.000000</td>\n",
              "    </tr>\n",
              "    <tr>\n",
              "      <th>75%</th>\n",
              "      <td>6.00000</td>\n",
              "      <td>6.000000</td>\n",
              "      <td>6.000000</td>\n",
              "      <td>6.000000</td>\n",
              "      <td>5.000000</td>\n",
              "      <td>6.00000</td>\n",
              "      <td>7.000000</td>\n",
              "      <td>6.000000</td>\n",
              "      <td>4.000000</td>\n",
              "      <td>4.000000</td>\n",
              "      <td>...</td>\n",
              "      <td>4.00000</td>\n",
              "      <td>6.000000</td>\n",
              "      <td>6.000000</td>\n",
              "      <td>5.000000</td>\n",
              "      <td>7.000000</td>\n",
              "      <td>6.000000</td>\n",
              "      <td>6.000000</td>\n",
              "      <td>6.000000</td>\n",
              "      <td>6.000000</td>\n",
              "      <td>6.000000</td>\n",
              "    </tr>\n",
              "    <tr>\n",
              "      <th>max</th>\n",
              "      <td>7.00000</td>\n",
              "      <td>7.000000</td>\n",
              "      <td>7.000000</td>\n",
              "      <td>7.000000</td>\n",
              "      <td>7.000000</td>\n",
              "      <td>7.00000</td>\n",
              "      <td>7.000000</td>\n",
              "      <td>7.000000</td>\n",
              "      <td>7.000000</td>\n",
              "      <td>7.000000</td>\n",
              "      <td>...</td>\n",
              "      <td>7.00000</td>\n",
              "      <td>7.000000</td>\n",
              "      <td>7.000000</td>\n",
              "      <td>7.000000</td>\n",
              "      <td>7.000000</td>\n",
              "      <td>7.000000</td>\n",
              "      <td>7.000000</td>\n",
              "      <td>7.000000</td>\n",
              "      <td>7.000000</td>\n",
              "      <td>7.000000</td>\n",
              "    </tr>\n",
              "  </tbody>\n",
              "</table>\n",
              "<p>8 rows × 25 columns</p>\n",
              "</div>\n",
              "      <button class=\"colab-df-convert\" onclick=\"convertToInteractive('df-76a89fdf-1da3-49e1-a375-b5cde67d1b91')\"\n",
              "              title=\"Convert this dataframe to an interactive table.\"\n",
              "              style=\"display:none;\">\n",
              "        \n",
              "  <svg xmlns=\"http://www.w3.org/2000/svg\" height=\"24px\"viewBox=\"0 0 24 24\"\n",
              "       width=\"24px\">\n",
              "    <path d=\"M0 0h24v24H0V0z\" fill=\"none\"/>\n",
              "    <path d=\"M18.56 5.44l.94 2.06.94-2.06 2.06-.94-2.06-.94-.94-2.06-.94 2.06-2.06.94zm-11 1L8.5 8.5l.94-2.06 2.06-.94-2.06-.94L8.5 2.5l-.94 2.06-2.06.94zm10 10l.94 2.06.94-2.06 2.06-.94-2.06-.94-.94-2.06-.94 2.06-2.06.94z\"/><path d=\"M17.41 7.96l-1.37-1.37c-.4-.4-.92-.59-1.43-.59-.52 0-1.04.2-1.43.59L10.3 9.45l-7.72 7.72c-.78.78-.78 2.05 0 2.83L4 21.41c.39.39.9.59 1.41.59.51 0 1.02-.2 1.41-.59l7.78-7.78 2.81-2.81c.8-.78.8-2.07 0-2.86zM5.41 20L4 18.59l7.72-7.72 1.47 1.35L5.41 20z\"/>\n",
              "  </svg>\n",
              "      </button>\n",
              "      \n",
              "  <style>\n",
              "    .colab-df-container {\n",
              "      display:flex;\n",
              "      flex-wrap:wrap;\n",
              "      gap: 12px;\n",
              "    }\n",
              "\n",
              "    .colab-df-convert {\n",
              "      background-color: #E8F0FE;\n",
              "      border: none;\n",
              "      border-radius: 50%;\n",
              "      cursor: pointer;\n",
              "      display: none;\n",
              "      fill: #1967D2;\n",
              "      height: 32px;\n",
              "      padding: 0 0 0 0;\n",
              "      width: 32px;\n",
              "    }\n",
              "\n",
              "    .colab-df-convert:hover {\n",
              "      background-color: #E2EBFA;\n",
              "      box-shadow: 0px 1px 2px rgba(60, 64, 67, 0.3), 0px 1px 3px 1px rgba(60, 64, 67, 0.15);\n",
              "      fill: #174EA6;\n",
              "    }\n",
              "\n",
              "    [theme=dark] .colab-df-convert {\n",
              "      background-color: #3B4455;\n",
              "      fill: #D2E3FC;\n",
              "    }\n",
              "\n",
              "    [theme=dark] .colab-df-convert:hover {\n",
              "      background-color: #434B5C;\n",
              "      box-shadow: 0px 1px 3px 1px rgba(0, 0, 0, 0.15);\n",
              "      filter: drop-shadow(0px 1px 2px rgba(0, 0, 0, 0.3));\n",
              "      fill: #FFFFFF;\n",
              "    }\n",
              "  </style>\n",
              "\n",
              "      <script>\n",
              "        const buttonEl =\n",
              "          document.querySelector('#df-76a89fdf-1da3-49e1-a375-b5cde67d1b91 button.colab-df-convert');\n",
              "        buttonEl.style.display =\n",
              "          google.colab.kernel.accessAllowed ? 'block' : 'none';\n",
              "\n",
              "        async function convertToInteractive(key) {\n",
              "          const element = document.querySelector('#df-76a89fdf-1da3-49e1-a375-b5cde67d1b91');\n",
              "          const dataTable =\n",
              "            await google.colab.kernel.invokeFunction('convertToInteractive',\n",
              "                                                     [key], {});\n",
              "          if (!dataTable) return;\n",
              "\n",
              "          const docLinkHtml = 'Like what you see? Visit the ' +\n",
              "            '<a target=\"_blank\" href=https://colab.research.google.com/notebooks/data_table.ipynb>data table notebook</a>'\n",
              "            + ' to learn more about interactive tables.';\n",
              "          element.innerHTML = '';\n",
              "          dataTable['output_type'] = 'display_data';\n",
              "          await google.colab.output.renderOutput(dataTable, element);\n",
              "          const docLink = document.createElement('div');\n",
              "          docLink.innerHTML = docLinkHtml;\n",
              "          element.appendChild(docLink);\n",
              "        }\n",
              "      </script>\n",
              "    </div>\n",
              "  </div>\n",
              "  "
            ]
          },
          "metadata": {},
          "execution_count": 12
        }
      ]
    },
    {
      "cell_type": "code",
      "source": [
        "df_study1t = load_study1()\n",
        "df_study1t.drop(columns=[\"ID\", \"gender\"]).describe()"
      ],
      "metadata": {
        "colab": {
          "base_uri": "https://localhost:8080/",
          "height": 364
        },
        "id": "_OZ0lIXVMOMi",
        "outputId": "80c66af7-ff5e-4edc-85f1-55b5373d412c"
      },
      "execution_count": null,
      "outputs": [
        {
          "output_type": "execute_result",
          "data": {
            "text/plain": [
              "              age       power   dominance    prestige     power_f  \\\n",
              "count  172.000000  200.000000  200.000000  200.000000  200.000000   \n",
              "mean    46.558140    5.012054    3.082321    5.170764    4.507000   \n",
              "std     15.028709    0.987213    1.077791    0.771297    0.904578   \n",
              "min     18.000000    1.625000    1.000000    2.555556    2.275000   \n",
              "25%     34.750000    4.500000    2.250000    4.666667    3.900000   \n",
              "50%     48.000000    5.125000    3.000000    5.111111    4.612500   \n",
              "75%     59.000000    5.750000    3.861607    5.777778    5.206250   \n",
              "max     78.000000    6.750000    6.375000    6.777778    6.275000   \n",
              "\n",
              "       dominance_f  prestige_f  \n",
              "count   200.000000  200.000000  \n",
              "mean      3.302625    4.850111  \n",
              "std       0.909609    0.676481  \n",
              "min       1.350000    2.622222  \n",
              "25%       2.600000    4.350000  \n",
              "50%       3.250000    4.955556  \n",
              "75%       3.800000    5.333333  \n",
              "max       6.125000    6.222222  "
            ],
            "text/html": [
              "\n",
              "  <div id=\"df-8231b200-2e67-45ac-bdbf-f6ea132afaee\">\n",
              "    <div class=\"colab-df-container\">\n",
              "      <div>\n",
              "<style scoped>\n",
              "    .dataframe tbody tr th:only-of-type {\n",
              "        vertical-align: middle;\n",
              "    }\n",
              "\n",
              "    .dataframe tbody tr th {\n",
              "        vertical-align: top;\n",
              "    }\n",
              "\n",
              "    .dataframe thead th {\n",
              "        text-align: right;\n",
              "    }\n",
              "</style>\n",
              "<table border=\"1\" class=\"dataframe\">\n",
              "  <thead>\n",
              "    <tr style=\"text-align: right;\">\n",
              "      <th></th>\n",
              "      <th>age</th>\n",
              "      <th>power</th>\n",
              "      <th>dominance</th>\n",
              "      <th>prestige</th>\n",
              "      <th>power_f</th>\n",
              "      <th>dominance_f</th>\n",
              "      <th>prestige_f</th>\n",
              "    </tr>\n",
              "  </thead>\n",
              "  <tbody>\n",
              "    <tr>\n",
              "      <th>count</th>\n",
              "      <td>172.000000</td>\n",
              "      <td>200.000000</td>\n",
              "      <td>200.000000</td>\n",
              "      <td>200.000000</td>\n",
              "      <td>200.000000</td>\n",
              "      <td>200.000000</td>\n",
              "      <td>200.000000</td>\n",
              "    </tr>\n",
              "    <tr>\n",
              "      <th>mean</th>\n",
              "      <td>46.558140</td>\n",
              "      <td>5.012054</td>\n",
              "      <td>3.082321</td>\n",
              "      <td>5.170764</td>\n",
              "      <td>4.507000</td>\n",
              "      <td>3.302625</td>\n",
              "      <td>4.850111</td>\n",
              "    </tr>\n",
              "    <tr>\n",
              "      <th>std</th>\n",
              "      <td>15.028709</td>\n",
              "      <td>0.987213</td>\n",
              "      <td>1.077791</td>\n",
              "      <td>0.771297</td>\n",
              "      <td>0.904578</td>\n",
              "      <td>0.909609</td>\n",
              "      <td>0.676481</td>\n",
              "    </tr>\n",
              "    <tr>\n",
              "      <th>min</th>\n",
              "      <td>18.000000</td>\n",
              "      <td>1.625000</td>\n",
              "      <td>1.000000</td>\n",
              "      <td>2.555556</td>\n",
              "      <td>2.275000</td>\n",
              "      <td>1.350000</td>\n",
              "      <td>2.622222</td>\n",
              "    </tr>\n",
              "    <tr>\n",
              "      <th>25%</th>\n",
              "      <td>34.750000</td>\n",
              "      <td>4.500000</td>\n",
              "      <td>2.250000</td>\n",
              "      <td>4.666667</td>\n",
              "      <td>3.900000</td>\n",
              "      <td>2.600000</td>\n",
              "      <td>4.350000</td>\n",
              "    </tr>\n",
              "    <tr>\n",
              "      <th>50%</th>\n",
              "      <td>48.000000</td>\n",
              "      <td>5.125000</td>\n",
              "      <td>3.000000</td>\n",
              "      <td>5.111111</td>\n",
              "      <td>4.612500</td>\n",
              "      <td>3.250000</td>\n",
              "      <td>4.955556</td>\n",
              "    </tr>\n",
              "    <tr>\n",
              "      <th>75%</th>\n",
              "      <td>59.000000</td>\n",
              "      <td>5.750000</td>\n",
              "      <td>3.861607</td>\n",
              "      <td>5.777778</td>\n",
              "      <td>5.206250</td>\n",
              "      <td>3.800000</td>\n",
              "      <td>5.333333</td>\n",
              "    </tr>\n",
              "    <tr>\n",
              "      <th>max</th>\n",
              "      <td>78.000000</td>\n",
              "      <td>6.750000</td>\n",
              "      <td>6.375000</td>\n",
              "      <td>6.777778</td>\n",
              "      <td>6.275000</td>\n",
              "      <td>6.125000</td>\n",
              "      <td>6.222222</td>\n",
              "    </tr>\n",
              "  </tbody>\n",
              "</table>\n",
              "</div>\n",
              "      <button class=\"colab-df-convert\" onclick=\"convertToInteractive('df-8231b200-2e67-45ac-bdbf-f6ea132afaee')\"\n",
              "              title=\"Convert this dataframe to an interactive table.\"\n",
              "              style=\"display:none;\">\n",
              "        \n",
              "  <svg xmlns=\"http://www.w3.org/2000/svg\" height=\"24px\"viewBox=\"0 0 24 24\"\n",
              "       width=\"24px\">\n",
              "    <path d=\"M0 0h24v24H0V0z\" fill=\"none\"/>\n",
              "    <path d=\"M18.56 5.44l.94 2.06.94-2.06 2.06-.94-2.06-.94-.94-2.06-.94 2.06-2.06.94zm-11 1L8.5 8.5l.94-2.06 2.06-.94-2.06-.94L8.5 2.5l-.94 2.06-2.06.94zm10 10l.94 2.06.94-2.06 2.06-.94-2.06-.94-.94-2.06-.94 2.06-2.06.94z\"/><path d=\"M17.41 7.96l-1.37-1.37c-.4-.4-.92-.59-1.43-.59-.52 0-1.04.2-1.43.59L10.3 9.45l-7.72 7.72c-.78.78-.78 2.05 0 2.83L4 21.41c.39.39.9.59 1.41.59.51 0 1.02-.2 1.41-.59l7.78-7.78 2.81-2.81c.8-.78.8-2.07 0-2.86zM5.41 20L4 18.59l7.72-7.72 1.47 1.35L5.41 20z\"/>\n",
              "  </svg>\n",
              "      </button>\n",
              "      \n",
              "  <style>\n",
              "    .colab-df-container {\n",
              "      display:flex;\n",
              "      flex-wrap:wrap;\n",
              "      gap: 12px;\n",
              "    }\n",
              "\n",
              "    .colab-df-convert {\n",
              "      background-color: #E8F0FE;\n",
              "      border: none;\n",
              "      border-radius: 50%;\n",
              "      cursor: pointer;\n",
              "      display: none;\n",
              "      fill: #1967D2;\n",
              "      height: 32px;\n",
              "      padding: 0 0 0 0;\n",
              "      width: 32px;\n",
              "    }\n",
              "\n",
              "    .colab-df-convert:hover {\n",
              "      background-color: #E2EBFA;\n",
              "      box-shadow: 0px 1px 2px rgba(60, 64, 67, 0.3), 0px 1px 3px 1px rgba(60, 64, 67, 0.15);\n",
              "      fill: #174EA6;\n",
              "    }\n",
              "\n",
              "    [theme=dark] .colab-df-convert {\n",
              "      background-color: #3B4455;\n",
              "      fill: #D2E3FC;\n",
              "    }\n",
              "\n",
              "    [theme=dark] .colab-df-convert:hover {\n",
              "      background-color: #434B5C;\n",
              "      box-shadow: 0px 1px 3px 1px rgba(0, 0, 0, 0.15);\n",
              "      filter: drop-shadow(0px 1px 2px rgba(0, 0, 0, 0.3));\n",
              "      fill: #FFFFFF;\n",
              "    }\n",
              "  </style>\n",
              "\n",
              "      <script>\n",
              "        const buttonEl =\n",
              "          document.querySelector('#df-8231b200-2e67-45ac-bdbf-f6ea132afaee button.colab-df-convert');\n",
              "        buttonEl.style.display =\n",
              "          google.colab.kernel.accessAllowed ? 'block' : 'none';\n",
              "\n",
              "        async function convertToInteractive(key) {\n",
              "          const element = document.querySelector('#df-8231b200-2e67-45ac-bdbf-f6ea132afaee');\n",
              "          const dataTable =\n",
              "            await google.colab.kernel.invokeFunction('convertToInteractive',\n",
              "                                                     [key], {});\n",
              "          if (!dataTable) return;\n",
              "\n",
              "          const docLinkHtml = 'Like what you see? Visit the ' +\n",
              "            '<a target=\"_blank\" href=https://colab.research.google.com/notebooks/data_table.ipynb>data table notebook</a>'\n",
              "            + ' to learn more about interactive tables.';\n",
              "          element.innerHTML = '';\n",
              "          dataTable['output_type'] = 'display_data';\n",
              "          await google.colab.output.renderOutput(dataTable, element);\n",
              "          const docLink = document.createElement('div');\n",
              "          docLink.innerHTML = docLinkHtml;\n",
              "          element.appendChild(docLink);\n",
              "        }\n",
              "      </script>\n",
              "    </div>\n",
              "  </div>\n",
              "  "
            ]
          },
          "metadata": {},
          "execution_count": 13
        }
      ]
    },
    {
      "cell_type": "code",
      "source": [
        "df_study1t[[\"power\", \"dominance\", \"prestige\"]].plot(kind='line')"
      ],
      "metadata": {
        "colab": {
          "base_uri": "https://localhost:8080/",
          "height": 107
        },
        "id": "IX4uy6uwM2Dc",
        "outputId": "013e43f7-7ff9-41b5-d8e5-d0b5c043b048"
      },
      "execution_count": null,
      "outputs": [
        {
          "output_type": "execute_result",
          "data": {
            "text/plain": [
              "<matplotlib.axes._subplots.AxesSubplot at 0x7f4caceb0190>"
            ]
          },
          "metadata": {},
          "execution_count": 14
        },
        {
          "output_type": "display_data",
          "data": {
            "text/plain": [
              "<Figure size 432x288 with 1 Axes>"
            ],
            "image/png": "[encoded data removed]"
          },
          "metadata": {
            "needs_background": "light"
          }
        }
      ]
    },
    {
      "cell_type": "code",
      "source": [
        "df_study1t[[\"power\", \"dominance\", \"prestige\"]].mean(axis=1).plot(kind='line')"
      ],
      "metadata": {
        "colab": {
          "base_uri": "https://localhost:8080/",
          "height": 107
        },
        "id": "uEzZMw89NHz2",
        "outputId": "67b55c05-2319-4c16-b681-ac7c1636cee8"
      },
      "execution_count": null,
      "outputs": [
        {
          "output_type": "execute_result",
          "data": {
            "text/plain": [
              "<matplotlib.axes._subplots.AxesSubplot at 0x7f4cae294e10>"
            ]
          },
          "metadata": {},
          "execution_count": 15
        },
        {
          "output_type": "display_data",
          "data": {
            "text/plain": [
              "<Figure size 432x288 with 1 Axes>"
            ],
            "image/png": "[encoded data removed]"
          },
          "metadata": {
            "needs_background": "light"
          }
        }
      ]
    },
    {
      "cell_type": "markdown",
      "source": [
        "### Load and preprocess data"
      ],
      "metadata": {
        "id": "WI8QpCoSACS6"
      }
    },
    {
      "cell_type": "code",
      "source": [
        "# load data\n",
        "df_study1 = load_study1()\n",
        "df_study2 = load_study2()"
      ],
      "metadata": {
        "id": "KQUW7Zc__4lC"
      },
      "execution_count": null,
      "outputs": []
    },
    {
      "cell_type": "code",
      "source": [
        "df_study1.describe()"
      ],
      "metadata": {
        "colab": {
          "base_uri": "https://localhost:8080/",
          "height": 364
        },
        "id": "05V89oVrLHaZ",
        "outputId": "92b5e6b9-dcf4-43e4-b0e3-d3c535947963"
      },
      "execution_count": null,
      "outputs": [
        {
          "output_type": "execute_result",
          "data": {
            "text/plain": [
              "               ID         age      gender       power   dominance    prestige  \\\n",
              "count  200.000000  172.000000  200.000000  200.000000  200.000000  200.000000   \n",
              "mean   372.370000   46.558140    1.255000    5.012054    3.082321    5.170764   \n",
              "std    113.637629   15.028709    0.436955    0.987213    1.077791    0.771297   \n",
              "min    181.000000   18.000000    1.000000    1.625000    1.000000    2.555556   \n",
              "25%    272.500000   34.750000    1.000000    4.500000    2.250000    4.666667   \n",
              "50%    374.000000   48.000000    1.000000    5.125000    3.000000    5.111111   \n",
              "75%    477.250000   59.000000    2.000000    5.750000    3.861607    5.777778   \n",
              "max    558.000000   78.000000    2.000000    6.750000    6.375000    6.777778   \n",
              "\n",
              "          power_f  dominance_f  prestige_f  \n",
              "count  200.000000   200.000000  200.000000  \n",
              "mean     4.507000     3.302625    4.850111  \n",
              "std      0.904578     0.909609    0.676481  \n",
              "min      2.275000     1.350000    2.622222  \n",
              "25%      3.900000     2.600000    4.350000  \n",
              "50%      4.612500     3.250000    4.955556  \n",
              "75%      5.206250     3.800000    5.333333  \n",
              "max      6.275000     6.125000    6.222222  "
            ],
            "text/html": [
              "\n",
              "  <div id=\"df-3baa2ff2-8b8e-441c-9faf-7b0c6eeb4d2c\">\n",
              "    <div class=\"colab-df-container\">\n",
              "      <div>\n",
              "<style scoped>\n",
              "    .dataframe tbody tr th:only-of-type {\n",
              "        vertical-align: middle;\n",
              "    }\n",
              "\n",
              "    .dataframe tbody tr th {\n",
              "        vertical-align: top;\n",
              "    }\n",
              "\n",
              "    .dataframe thead th {\n",
              "        text-align: right;\n",
              "    }\n",
              "</style>\n",
              "<table border=\"1\" class=\"dataframe\">\n",
              "  <thead>\n",
              "    <tr style=\"text-align: right;\">\n",
              "      <th></th>\n",
              "      <th>ID</th>\n",
              "      <th>age</th>\n",
              "      <th>gender</th>\n",
              "      <th>power</th>\n",
              "      <th>dominance</th>\n",
              "      <th>prestige</th>\n",
              "      <th>power_f</th>\n",
              "      <th>dominance_f</th>\n",
              "      <th>prestige_f</th>\n",
              "    </tr>\n",
              "  </thead>\n",
              "  <tbody>\n",
              "    <tr>\n",
              "      <th>count</th>\n",
              "      <td>200.000000</td>\n",
              "      <td>172.000000</td>\n",
              "      <td>200.000000</td>\n",
              "      <td>200.000000</td>\n",
              "      <td>200.000000</td>\n",
              "      <td>200.000000</td>\n",
              "      <td>200.000000</td>\n",
              "      <td>200.000000</td>\n",
              "      <td>200.000000</td>\n",
              "    </tr>\n",
              "    <tr>\n",
              "      <th>mean</th>\n",
              "      <td>372.370000</td>\n",
              "      <td>46.558140</td>\n",
              "      <td>1.255000</td>\n",
              "      <td>5.012054</td>\n",
              "      <td>3.082321</td>\n",
              "      <td>5.170764</td>\n",
              "      <td>4.507000</td>\n",
              "      <td>3.302625</td>\n",
              "      <td>4.850111</td>\n",
              "    </tr>\n",
              "    <tr>\n",
              "      <th>std</th>\n",
              "      <td>113.637629</td>\n",
              "      <td>15.028709</td>\n",
              "      <td>0.436955</td>\n",
              "      <td>0.987213</td>\n",
              "      <td>1.077791</td>\n",
              "      <td>0.771297</td>\n",
              "      <td>0.904578</td>\n",
              "      <td>0.909609</td>\n",
              "      <td>0.676481</td>\n",
              "    </tr>\n",
              "    <tr>\n",
              "      <th>min</th>\n",
              "      <td>181.000000</td>\n",
              "      <td>18.000000</td>\n",
              "      <td>1.000000</td>\n",
              "      <td>1.625000</td>\n",
              "      <td>1.000000</td>\n",
              "      <td>2.555556</td>\n",
              "      <td>2.275000</td>\n",
              "      <td>1.350000</td>\n",
              "      <td>2.622222</td>\n",
              "    </tr>\n",
              "    <tr>\n",
              "      <th>25%</th>\n",
              "      <td>272.500000</td>\n",
              "      <td>34.750000</td>\n",
              "      <td>1.000000</td>\n",
              "      <td>4.500000</td>\n",
              "      <td>2.250000</td>\n",
              "      <td>4.666667</td>\n",
              "      <td>3.900000</td>\n",
              "      <td>2.600000</td>\n",
              "      <td>4.350000</td>\n",
              "    </tr>\n",
              "    <tr>\n",
              "      <th>50%</th>\n",
              "      <td>374.000000</td>\n",
              "      <td>48.000000</td>\n",
              "      <td>1.000000</td>\n",
              "      <td>5.125000</td>\n",
              "      <td>3.000000</td>\n",
              "      <td>5.111111</td>\n",
              "      <td>4.612500</td>\n",
              "      <td>3.250000</td>\n",
              "      <td>4.955556</td>\n",
              "    </tr>\n",
              "    <tr>\n",
              "      <th>75%</th>\n",
              "      <td>477.250000</td>\n",
              "      <td>59.000000</td>\n",
              "      <td>2.000000</td>\n",
              "      <td>5.750000</td>\n",
              "      <td>3.861607</td>\n",
              "      <td>5.777778</td>\n",
              "      <td>5.206250</td>\n",
              "      <td>3.800000</td>\n",
              "      <td>5.333333</td>\n",
              "    </tr>\n",
              "    <tr>\n",
              "      <th>max</th>\n",
              "      <td>558.000000</td>\n",
              "      <td>78.000000</td>\n",
              "      <td>2.000000</td>\n",
              "      <td>6.750000</td>\n",
              "      <td>6.375000</td>\n",
              "      <td>6.777778</td>\n",
              "      <td>6.275000</td>\n",
              "      <td>6.125000</td>\n",
              "      <td>6.222222</td>\n",
              "    </tr>\n",
              "  </tbody>\n",
              "</table>\n",
              "</div>\n",
              "      <button class=\"colab-df-convert\" onclick=\"convertToInteractive('df-3baa2ff2-8b8e-441c-9faf-7b0c6eeb4d2c')\"\n",
              "              title=\"Convert this dataframe to an interactive table.\"\n",
              "              style=\"display:none;\">\n",
              "        \n",
              "  <svg xmlns=\"http://www.w3.org/2000/svg\" height=\"24px\"viewBox=\"0 0 24 24\"\n",
              "       width=\"24px\">\n",
              "    <path d=\"M0 0h24v24H0V0z\" fill=\"none\"/>\n",
              "    <path d=\"M18.56 5.44l.94 2.06.94-2.06 2.06-.94-2.06-.94-.94-2.06-.94 2.06-2.06.94zm-11 1L8.5 8.5l.94-2.06 2.06-.94-2.06-.94L8.5 2.5l-.94 2.06-2.06.94zm10 10l.94 2.06.94-2.06 2.06-.94-2.06-.94-.94-2.06-.94 2.06-2.06.94z\"/><path d=\"M17.41 7.96l-1.37-1.37c-.4-.4-.92-.59-1.43-.59-.52 0-1.04.2-1.43.59L10.3 9.45l-7.72 7.72c-.78.78-.78 2.05 0 2.83L4 21.41c.39.39.9.59 1.41.59.51 0 1.02-.2 1.41-.59l7.78-7.78 2.81-2.81c.8-.78.8-2.07 0-2.86zM5.41 20L4 18.59l7.72-7.72 1.47 1.35L5.41 20z\"/>\n",
              "  </svg>\n",
              "      </button>\n",
              "      \n",
              "  <style>\n",
              "    .colab-df-container {\n",
              "      display:flex;\n",
              "      flex-wrap:wrap;\n",
              "      gap: 12px;\n",
              "    }\n",
              "\n",
              "    .colab-df-convert {\n",
              "      background-color: #E8F0FE;\n",
              "      border: none;\n",
              "      border-radius: 50%;\n",
              "      cursor: pointer;\n",
              "      display: none;\n",
              "      fill: #1967D2;\n",
              "      height: 32px;\n",
              "      padding: 0 0 0 0;\n",
              "      width: 32px;\n",
              "    }\n",
              "\n",
              "    .colab-df-convert:hover {\n",
              "      background-color: #E2EBFA;\n",
              "      box-shadow: 0px 1px 2px rgba(60, 64, 67, 0.3), 0px 1px 3px 1px rgba(60, 64, 67, 0.15);\n",
              "      fill: #174EA6;\n",
              "    }\n",
              "\n",
              "    [theme=dark] .colab-df-convert {\n",
              "      background-color: #3B4455;\n",
              "      fill: #D2E3FC;\n",
              "    }\n",
              "\n",
              "    [theme=dark] .colab-df-convert:hover {\n",
              "      background-color: #434B5C;\n",
              "      box-shadow: 0px 1px 3px 1px rgba(0, 0, 0, 0.15);\n",
              "      filter: drop-shadow(0px 1px 2px rgba(0, 0, 0, 0.3));\n",
              "      fill: #FFFFFF;\n",
              "    }\n",
              "  </style>\n",
              "\n",
              "      <script>\n",
              "        const buttonEl =\n",
              "          document.querySelector('#df-3baa2ff2-8b8e-441c-9faf-7b0c6eeb4d2c button.colab-df-convert');\n",
              "        buttonEl.style.display =\n",
              "          google.colab.kernel.accessAllowed ? 'block' : 'none';\n",
              "\n",
              "        async function convertToInteractive(key) {\n",
              "          const element = document.querySelector('#df-3baa2ff2-8b8e-441c-9faf-7b0c6eeb4d2c');\n",
              "          const dataTable =\n",
              "            await google.colab.kernel.invokeFunction('convertToInteractive',\n",
              "                                                     [key], {});\n",
              "          if (!dataTable) return;\n",
              "\n",
              "          const docLinkHtml = 'Like what you see? Visit the ' +\n",
              "            '<a target=\"_blank\" href=https://colab.research.google.com/notebooks/data_table.ipynb>data table notebook</a>'\n",
              "            + ' to learn more about interactive tables.';\n",
              "          element.innerHTML = '';\n",
              "          dataTable['output_type'] = 'display_data';\n",
              "          await google.colab.output.renderOutput(dataTable, element);\n",
              "          const docLink = document.createElement('div');\n",
              "          docLink.innerHTML = docLinkHtml;\n",
              "          element.appendChild(docLink);\n",
              "        }\n",
              "      </script>\n",
              "    </div>\n",
              "  </div>\n",
              "  "
            ]
          },
          "metadata": {},
          "execution_count": 17
        }
      ]
    },
    {
      "cell_type": "code",
      "source": [
        "%%time\n",
        "# tokenize, postag, ...\n",
        "df_study1[\"text_spacy_doc\"] = nlpize(df_study1[\"text\"], nlp)\n",
        "df_study2[\"text_spacy_doc\"] = nlpize(df_study2[\"text\"], nlp)"
      ],
      "metadata": {
        "colab": {
          "base_uri": "https://localhost:8080/"
        },
        "id": "kmFKI9a3AaIH",
        "outputId": "6f4a4971-b372-4b73-b34c-26a786631e71"
      },
      "execution_count": null,
      "outputs": [
        {
          "output_type": "stream",
          "name": "stderr",
          "text": [
            "/usr/local/lib/python3.7/dist-packages/torch/amp/autocast_mode.py:198: UserWarning: User provided device_type of 'cuda', but CUDA is not available. Disabling\n",
            "  warnings.warn('User provided device_type of \\'cuda\\', but CUDA is not available. Disabling')\n"
          ]
        },
        {
          "output_type": "stream",
          "name": "stdout",
          "text": [
            "CPU times: user 4min 9s, sys: 2.4 s, total: 4min 11s\n",
            "Wall time: 4min 12s\n"
          ]
        }
      ]
    },
    {
      "cell_type": "code",
      "source": [
        "# remove punctuation\n",
        "df_study1[\"text_spacy_doc_filtered\"] = clean(df_study1[\"text_spacy_doc\"], stopwords=False, alpha=False, punctuation=True)\n",
        "df_study2[\"text_spacy_doc_filtered\"] = clean(df_study2[\"text_spacy_doc\"], stopwords=False, alpha=False, punctuation=True)"
      ],
      "metadata": {
        "id": "mPaolI8NAbqH"
      },
      "execution_count": null,
      "outputs": []
    },
    {
      "cell_type": "code",
      "source": [
        "# take raw text `tok.text` instead of lemma `tok.lemma_`\n",
        "df_study1[\"tokens\"] = df_study1[\"text_spacy_doc_filtered\"].map(lambda doc: list(map(lambda tok: tok.text, doc)))\n",
        "df_study2[\"tokens\"] = df_study2[\"text_spacy_doc_filtered\"].map(lambda doc: list(map(lambda tok: tok.text, doc)))\n",
        "# convert to plain string\n",
        "df_study1[\"tokens\"] = df_study1[\"tokens\"].map(lambda doc: list(map(str, doc)))\n",
        "df_study2[\"tokens\"] = df_study2[\"tokens\"].map(lambda doc: list(map(str, doc)))"
      ],
      "metadata": {
        "id": "i4sq7Y2iAYCx"
      },
      "execution_count": null,
      "outputs": []
    },
    {
      "cell_type": "code",
      "source": [
        "# concat both studies\n",
        "#docs = pd.concat([df_study1[\"tokens\"], df_study2[\"tokens\"]], ignore_index=True)\n",
        "#docs_raw = docs.map(lambda doc: \" \".join(doc))"
      ],
      "metadata": {
        "id": "y0rH3jC0Am3W"
      },
      "execution_count": null,
      "outputs": []
    },
    {
      "cell_type": "markdown",
      "source": [
        "### Create features"
      ],
      "metadata": {
        "id": "E3P5ze8OABg2"
      }
    },
    {
      "cell_type": "code",
      "source": [
        "from sklearn.feature_extraction.text import CountVectorizer, TfidfVectorizer\n",
        "from sklearn.feature_extraction.text import TfidfTransformer\n",
        "\n",
        "from sklearn.preprocessing import StandardScaler\n",
        "\n",
        "from sklearn.pipeline import make_pipeline\n",
        "\n",
        "from sklearn.linear_model import LogisticRegression\n",
        "from sklearn.linear_model import LogisticRegressionCV\n",
        "\n",
        "import sklearn.dummy\n",
        "from sklearn import svm\n",
        "\n",
        "from sklearn.model_selection import train_test_split\n",
        "from sklearn.model_selection import cross_val_score\n",
        "\n",
        "# https://scikit-learn.org/stable/modules/model_evaluation.html#regression-metrics\n",
        "import sklearn.metrics"
      ],
      "metadata": {
        "id": "jGs5celN6_l8"
      },
      "execution_count": null,
      "outputs": []
    },
    {
      "cell_type": "code",
      "source": [
        "df_study1[\"text_cleaned\"] = df_study1[\"tokens\"].map(lambda doc: \" \".join(doc))\n",
        "\n",
        "X = df_study1[\"text_cleaned\"].values\n",
        "y = df_study1[[\"power\", \"dominance\", \"prestige\"]].values\n",
        "print(\"shape X: \", X.shape)\n",
        "print(\"shape y: \", y.shape)"
      ],
      "metadata": {
        "colab": {
          "base_uri": "https://localhost:8080/"
        },
        "id": "7r5NGI4t_iXe",
        "outputId": "3eb0d883-0fbb-4e4a-e3e8-ec7389640795"
      },
      "execution_count": null,
      "outputs": [
        {
          "output_type": "stream",
          "name": "stdout",
          "text": [
            "shape X:  (200,)\n",
            "shape y:  (200, 3)\n"
          ]
        }
      ]
    },
    {
      "cell_type": "code",
      "source": [
        "X_train, X_test, y_train, y_test = train_test_split(X, y, random_state=42, test_size=0.3, shuffle=False)"
      ],
      "metadata": {
        "id": "TnJJvl8vDvJy"
      },
      "execution_count": null,
      "outputs": []
    },
    {
      "cell_type": "code",
      "source": [
        "count_vect = CountVectorizer()\n",
        "X_train_counts = count_vect.fit_transform(X_train)\n",
        "X_train_counts.shape\n",
        "\n",
        "tfidf_transformer = TfidfTransformer()\n",
        "X_train_tfidf = tfidf_transformer.fit_transform(X_train_counts)\n",
        "X_train_tfidf.shape\n",
        "\n",
        "X_test_counts = count_vect.transform(X_test)\n",
        "X_test_tfidf = tfidf_transformer.transform(X_test_counts)\n",
        "X_test_tfidf.shape"
      ],
      "metadata": {
        "colab": {
          "base_uri": "https://localhost:8080/"
        },
        "id": "B0Umo7rRBPGm",
        "outputId": "78821496-41a3-403b-b84c-e0e3276a2e8a"
      },
      "execution_count": null,
      "outputs": [
        {
          "output_type": "execute_result",
          "data": {
            "text/plain": [
              "(60, 1971)"
            ]
          },
          "metadata": {},
          "execution_count": 25
        }
      ]
    },
    {
      "cell_type": "code",
      "source": [
        "vectorizer = TfidfVectorizer(max_features=2500, min_df=2, max_df=0.8)\n",
        "vectorizer = TfidfVectorizer(max_features=2500, min_df=2, max_df=0.8, binary=True)\n",
        "vectorizer = TfidfVectorizer(max_features=2500, min_df=2, max_df=0.8, binary=True, idf=False, normalization=False) \n",
        "vectorizer.fit(X)\n",
        "\n",
        "X_train_tfidf = processed_features = vectorizer.transform(X_train)\n",
        "X_test_tfidf = processed_features = vectorizer.transform(X_test)\n",
        "X_train_tfidf.shape, X_test_tfidf.shape"
      ],
      "metadata": {
        "colab": {
          "base_uri": "https://localhost:8080/"
        },
        "id": "mFblQuEGFT6d",
        "outputId": "fe276858-114e-4124-af7b-65cde6b0a55a"
      },
      "execution_count": null,
      "outputs": [
        {
          "output_type": "execute_result",
          "data": {
            "text/plain": [
              "((140, 843), (60, 843))"
            ]
          },
          "metadata": {},
          "execution_count": 26
        }
      ]
    },
    {
      "cell_type": "code",
      "source": [
        "X_train_tfidf.todense()"
      ],
      "metadata": {
        "colab": {
          "base_uri": "https://localhost:8080/"
        },
        "id": "MPG1S8YK8SHk",
        "outputId": "a22d6874-b897-4861-92bf-cebd3192c936"
      },
      "execution_count": null,
      "outputs": [
        {
          "output_type": "execute_result",
          "data": {
            "text/plain": [
              "matrix([[0.       , 0.       , 0.       , ..., 0.       , 0.       ,\n",
              "         0.       ],\n",
              "        [0.       , 0.       , 0.       , ..., 0.       , 0.2314922,\n",
              "         0.       ],\n",
              "        [0.       , 0.       , 0.       , ..., 0.       , 0.       ,\n",
              "         0.       ],\n",
              "        ...,\n",
              "        [0.       , 0.       , 0.       , ..., 0.       , 0.       ,\n",
              "         0.       ],\n",
              "        [0.       , 0.       , 0.       , ..., 0.       , 0.       ,\n",
              "         0.       ],\n",
              "        [0.       , 0.       , 0.       , ..., 0.       , 0.       ,\n",
              "         0.       ]])"
            ]
          },
          "metadata": {},
          "execution_count": 27
        }
      ]
    },
    {
      "cell_type": "code",
      "source": [
        "# TFIDF features binarisieren\n",
        "# TfidfVectorizer -> binary=True"
      ],
      "metadata": {
        "id": "t8N-cHhlOq2E"
      },
      "execution_count": null,
      "outputs": []
    },
    {
      "cell_type": "markdown",
      "source": [
        "### Labels"
      ],
      "metadata": {
        "id": "0wfPRutMI8CZ"
      }
    },
    {
      "cell_type": "code",
      "source": [
        "y_pow = y_train[:,0]\n",
        "y_dom = y_train[:,1]\n",
        "y_pre = y_train[:,2]\n",
        "\n",
        "y_true = y_pow"
      ],
      "metadata": {
        "id": "fMllMUW9InNo"
      },
      "execution_count": null,
      "outputs": []
    },
    {
      "cell_type": "markdown",
      "source": [
        "### Dummy regressor (just statistics/mean, ...)"
      ],
      "metadata": {
        "id": "TnK4hsUjIQ9y"
      }
    },
    {
      "cell_type": "markdown",
      "source": [
        "- regr score: best 1.0, worst 0.0\n",
        "- r2: best 1.0, constant model 0.0, can be negative\n",
        "- mse: best is 0.0"
      ],
      "metadata": {
        "id": "c6IHuX7fJn5T"
      }
    },
    {
      "cell_type": "code",
      "source": [
        "regr = sklearn.dummy.DummyRegressor(strategy=\"mean\")\n",
        "\n",
        "y_true = y_train[:,0]\n",
        "regr.fit(X_train_tfidf, y_true)\n",
        "\n",
        "y_pred = regr.predict(X_train_tfidf)\n",
        "print(\"score:\", regr.score(X_train_tfidf, y_true))\n",
        "print(\"mse:\", sklearn.metrics.mean_squared_error(y_true, y_pred))\n",
        "print(\"r2: \", sklearn.metrics.r2_score(y_true, y_pred))\n",
        "\n",
        "y_pred = regr.predict(X_test_tfidf)\n",
        "y_true = y_test[:,0]\n",
        "\n",
        "print(\"score:\", regr.score(X_test_tfidf, y_true))\n",
        "print(\"mse:\", sklearn.metrics.mean_squared_error(y_true, y_pred))\n",
        "print(\"r2: \", sklearn.metrics.r2_score(y_true, y_pred))\n",
        "\n",
        "#for t, p in zip(y_true, y_pred):\n",
        "#  print(f\" {t:2.2f}  {p:2.2f}\")"
      ],
      "metadata": {
        "colab": {
          "base_uri": "https://localhost:8080/"
        },
        "id": "aUpEqbs4IQcO",
        "outputId": "7c06be9a-8a58-4054-9ed0-97c22ac8e925"
      },
      "execution_count": null,
      "outputs": [
        {
          "output_type": "stream",
          "name": "stdout",
          "text": [
            "score: 0.0\n",
            "mse: 0.980376275510204\n",
            "r2:  0.0\n",
            "score: -0.1220062414201839\n",
            "mse: 0.9767038690476187\n",
            "r2:  -0.1220062414201839\n"
          ]
        }
      ]
    },
    {
      "cell_type": "markdown",
      "source": [
        "### Regressors"
      ],
      "metadata": {
        "id": "eJ87OfsmIWBy"
      }
    },
    {
      "cell_type": "code",
      "source": [
        "y_pow = y_train[:,0]\n",
        "y_dom = y_train[:,1]\n",
        "y_pre = y_train[:,2]\n",
        "\n",
        "y_true = y_pow\n",
        "\n",
        "regr = svm.SVR()\n",
        "regr.fit(X_train_tfidf, y_true)\n",
        "\n",
        "y_pred = regr.predict(X_train_tfidf)\n",
        "\n",
        "print(\"score:\", regr.score(X_train_tfidf, y_true))\n",
        "print(\"mse:\", sklearn.metrics.mean_squared_error(y_true, y_pred))\n",
        "print(\"r2: \", sklearn.metrics.r2_score(y_true, y_pred))"
      ],
      "metadata": {
        "colab": {
          "base_uri": "https://localhost:8080/"
        },
        "id": "Hx6FyRHfBeP8",
        "outputId": "b71cad9f-9867-4519-a47b-a1576d1f9339"
      },
      "execution_count": null,
      "outputs": [
        {
          "output_type": "stream",
          "name": "stdout",
          "text": [
            "score: 0.7776080667530352\n",
            "mse: 0.21802777522017328\n",
            "r2:  0.7776080667530352\n"
          ]
        }
      ]
    },
    {
      "cell_type": "code",
      "source": [
        "y_pred = regr.predict(X_test_tfidf)\n",
        "y_true = y_test[:,0]\n",
        "# np.vstack([y_pred, y_true])\n",
        "\n",
        "print(\"score:\", regr.score(X_test_tfidf, y_true))\n",
        "print(\"mse:\", sklearn.metrics.mean_squared_error(y_true, y_pred))\n",
        "print(\"r2: \", sklearn.metrics.r2_score(y_true, y_pred))"
      ],
      "metadata": {
        "colab": {
          "base_uri": "https://localhost:8080/"
        },
        "id": "E6jaOQbcBPJT",
        "outputId": "b9941484-4e08-40f0-acf4-1628024713c7"
      },
      "execution_count": null,
      "outputs": [
        {
          "output_type": "stream",
          "name": "stdout",
          "text": [
            "score: -0.07219415251760619\n",
            "mse: 0.9333425594929495\n",
            "r2:  -0.07219415251760619\n"
          ]
        }
      ]
    },
    {
      "cell_type": "markdown",
      "source": [
        "## Other stuff"
      ],
      "metadata": {
        "id": "1O9uFn_Y_f1w"
      }
    },
    {
      "cell_type": "code",
      "source": [],
      "metadata": {
        "id": "qXUWNG9H_hld"
      },
      "execution_count": null,
      "outputs": []
    }
  ]
}