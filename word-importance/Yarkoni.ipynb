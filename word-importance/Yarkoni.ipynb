{
 "cells": [
  {
   "attachments": {},
   "cell_type": "markdown",
   "metadata": {},
   "source": [
    "# Yarkoni 2010 Analysis"
   ]
  },
  {
   "cell_type": "code",
   "execution_count": 1,
   "metadata": {},
   "outputs": [
    {
     "name": "stderr",
     "output_type": "stream",
     "text": [
      "/mnt/c/Users/koerner/Desktop/robert-power-and-language-files-osf/venv/lib/python3.8/site-packages/tqdm/auto.py:22: TqdmWarning: IProgress not found. Please update jupyter and ipywidgets. See https://ipywidgets.readthedocs.io/en/stable/user_install.html\n",
      "  from .autonotebook import tqdm as notebook_tqdm\n"
     ]
    }
   ],
   "source": [
    "import collections\n",
    "import itertools\n",
    "import logging\n",
    "import os.path\n",
    "import pickle\n",
    "import warnings\n",
    "\n",
    "import numpy as np\n",
    "import pandas as pd\n",
    "import scipy.stats\n",
    "import matplotlib.pyplot as plt\n",
    "from sklearn.utils import shuffle\n",
    "\n",
    "warnings.filterwarnings(\"ignore\", category=DeprecationWarning)\n",
    "warnings.filterwarnings(\"ignore\", category=FutureWarning)\n",
    "warnings.filterwarnings(\"ignore\", category=UserWarning)\n",
    "\n",
    "logging.basicConfig(level=logging.INFO, format=\"[%(levelname)s] %(name)s: %(message)s\")\n",
    "\n",
    "import data"
   ]
  },
  {
   "attachments": {},
   "cell_type": "markdown",
   "metadata": {},
   "source": [
    "### Prepare data"
   ]
  },
  {
   "cell_type": "code",
   "execution_count": 33,
   "metadata": {},
   "outputs": [
    {
     "name": "stderr",
     "output_type": "stream",
     "text": [
      "[INFO] data: Clean study data ...\n"
     ]
    }
   ],
   "source": [
    "fn_study_prepared = \"studydata.pickle\"\n",
    "\n",
    "if not os.path.exists(fn_study_prepared):\n",
    "    df_study1, df_study2 = data.prepare_study_data()\n",
    "\n",
    "    with open(fn_study_prepared, \"wb\") as fp:\n",
    "        pickle.dump(df_study1, fp, protocol=pickle.HIGHEST_PROTOCOL)\n",
    "        pickle.dump(df_study2, fp, protocol=pickle.HIGHEST_PROTOCOL)\n",
    "\n",
    "with open(fn_study_prepared, \"rb\") as fp:\n",
    "    df_study1 = pickle.load(fp)\n",
    "    df_study2 = pickle.load(fp)\n",
    "\n",
    "df_study1, df_study2 = data.clean_study_data(df_study1, df_study2, do_clean_stopwords=False)"
   ]
  },
  {
   "attachments": {},
   "cell_type": "markdown",
   "metadata": {},
   "source": [
    "> To investigate the relation between personality and language use at the level of individual words, two sets of analyses were conducted. First, to identify the strongest word-level correlates of each personality trait, I correlated bloggers' personality scores with a set of 5,068 individual words."
   ]
  },
  {
   "attachments": {},
   "cell_type": "markdown",
   "metadata": {},
   "source": [
    "> #### Word-based analyses\n",
    "\n",
    "> To produce a normalized measure of word use that could be meaningfully compared across blogs, I divided the number of times each word occurred in a given blog by the total number of word tokens used in that blog. All words were stripped of any leading or trailing punctuation prior to analysis. Although many of the LIWC categories include all words that share a particular stem, words were left unstemmed in the present study because preliminary analysis indicated that many words with the same stem had quite different patterns of correlation with personality (e.g., “love” and “lover”).\n",
    "\n",
    "> Because the vast majority of English words have a frequency of less than 1 in 10,000 words, two steps were adopted in order to increase the reliability of the single-word measures. First, only the 5,608 words that occurred most frequently across all blogs were analyzed; second, only blogs containing 50,000 or more words were included in the word-level analyses (N = 406).\n",
    "\n",
    "> To ensure that these cut-offs were sufficient for reliable estimation of word use, a splithalf reliability analysis was conducted (i.e., all posts within each blog were randomly assigned to one of two halves, and the correlation between halves was then computed across all blogs). Figure 1 displays loess-smoothed split-half correlations for the 5,000 most frequent words as a function of word rank. The analysis suggested that reliability was high to moderate (> .6) for the first 2,000 – 3,000 or so words, and somewhat lower thereafter. However, even for lowranked words, split-half correlations generally remained above .4, a level considered acceptable for present purposes given that word-level analyses focused primarily on the aggregate pattern of associations with personality rather than individual correlations. Word-level results were thresholded at p < .001 in order to minimize the incidence of false positives."
   ]
  },
  {
   "cell_type": "code",
   "execution_count": 34,
   "metadata": {},
   "outputs": [
    {
     "name": "stdout",
     "output_type": "stream",
     "text": [
      "Number of documents: 200\n"
     ]
    }
   ],
   "source": [
    "print(f\"Number of documents: {len(df_study1)}\")\n",
    "\n",
    "df_scores = df_study1[[\"power\", \"prestige\", \"dominance\", \"power_f\", \"prestige_f\", \"dominance_f\"]]\n",
    "\n",
    "\n",
    "# preprocessed documents (spacy tokenized, some filtering of non-words)\n",
    "df_documents = df_study1[\"text_spacy_doc_filtered\"]\n",
    "\n",
    "# NOTE: (do) we want to keep the stopwords?\n",
    "#df_documents = df_study1[\"text_spacy_doc\"]\n",
    "#df_documents = data.clean(df_documents, stopwords=False, alpha=True, punctuation=True)\n",
    "\n",
    "\n",
    "# get plain list of tokens per document (no lemmatizing)\n",
    "df_tokens = data.get_tokens_by_pos(df_documents, pos_list=None, lemma=False, join=False)\n",
    "#df_scores[\"tokens\"] = df_tokens\n"
   ]
  },
  {
   "cell_type": "code",
   "execution_count": 35,
   "metadata": {},
   "outputs": [
    {
     "name": "stdout",
     "output_type": "stream",
     "text": [
      "Number of types (unique word forms): 2529\n",
      "\n",
      "Top-10 Types: Ich (11.33), und (11.22), bin (8.79), ich (5.26), mich (3.14), sehr (3.07), zu (2.76), ein (2.46), in (2.12), mit (2.03)\n",
      "Bottom-10 Types: schätze (0.03), Dorf (0.03), Andererseits (0.03), Tage (0.03), bleiben (0.03), besuchen (0.03), erwachsene (0.03), durchsetzungsstark (0.03), Kompromisse (0.03), eingehe (0.03)\n"
     ]
    }
   ],
   "source": [
    "# count number of tokens\n",
    "def _count_tokens_fn(doc):\n",
    "    num_tokens = len(doc)\n",
    "    cnt = collections.Counter(doc)\n",
    "    return {word: num / num_tokens for word, num in cnt.items()}\n",
    "\n",
    "df_tokens_weighted = df_tokens.map(_count_tokens_fn)\n",
    "\n",
    "\n",
    "# get N-most frequently occuring words (based on relative counts)\n",
    "types = collections.Counter()\n",
    "for doc in df_tokens_weighted.values.tolist():\n",
    "    types.update(doc)\n",
    "\n",
    "print(f\"Number of types (unique word forms): {len(types)}\")\n",
    "print()\n",
    "\n",
    "# set cutoff\n",
    "N = len(types)\n",
    "N = 1000\n",
    "\n",
    "types_top_N = types.most_common(N)\n",
    "print(f\"Top-10 Types: {', '.join('{} ({:.2f})'.format(w, c) for w, c in types_top_N[:10])}\")\n",
    "print(f\"Bottom-10 Types: {', '.join('{} ({:.2f})'.format(w, c) for w, c in types_top_N[-10:])}\")\n",
    "types_top_N = dict(types_top_N)\n",
    "\n",
    "\n",
    "# filter out types in documents that are not in top-N\n",
    "types_to_keep = set(types_top_N.keys())\n",
    "def _filter_tokens_fn(doc):\n",
    "    return {k: v for k, v in doc.items() if k in types_to_keep}\n",
    "\n",
    "df_tokens_weighted_filtered = df_tokens_weighted.map(_filter_tokens_fn)"
   ]
  },
  {
   "cell_type": "code",
   "execution_count": 36,
   "metadata": {},
   "outputs": [
    {
     "name": "stdout",
     "output_type": "stream",
     "text": [
      "Top-10 Types: und (12.99), Ich (12.69), bin (9.91), ich (6.33), mich (3.65), sehr (3.47), zu (3.29), ein (2.79), in (2.50), mit (2.43)\n",
      "Bottom-10 Types: Golf (0.03), Lethargie (0.03), belastet (0.03), zuweilen (0.03), Serien (0.03), laufe (0.03), umsetzen (0.03), übergewichtig (0.03), gespaltenes (0.03), Körper (0.03)\n"
     ]
    }
   ],
   "source": [
    "# get updated token weights --> since total token count changed, recompute\n",
    "def _count_tokens_filtered_fn(doc):\n",
    "    cnt = collections.Counter(doc)\n",
    "    cnt = {k: v for k, v in cnt.items() if k in types_to_keep}\n",
    "    num_tokens = sum(cnt.values())\n",
    "    return {word: num / num_tokens for word, num in cnt.items()}\n",
    "\n",
    "df_tokens_weighted_filtered = df_tokens.map(_count_tokens_filtered_fn)\n",
    "\n",
    "types = collections.Counter()\n",
    "for doc in df_tokens_weighted_filtered.values.tolist():\n",
    "    types.update(doc)\n",
    "\n",
    "types_top_N = types.most_common(N)\n",
    "print(f\"Top-10 Types: {', '.join('{} ({:.2f})'.format(w, c) for w, c in types_top_N[:10])}\")\n",
    "print(f\"Bottom-10 Types: {', '.join('{} ({:.2f})'.format(w, c) for w, c in types_top_N[-10:])}\")\n",
    "types_top_N = dict(types_top_N)"
   ]
  },
  {
   "cell_type": "code",
   "execution_count": 37,
   "metadata": {},
   "outputs": [
    {
     "name": "stdout",
     "output_type": "stream",
     "text": [
      "Ranks (half/1):  und, Ich, bin, ich, zu, sehr, mich, in, ein, mit\n",
      "Ranks (half/2):  Ich, und, bin, ich, mich, sehr, ein, zu, mit, die\n",
      "\n",
      "SpearmanrResult(correlation=0.5622895940938863, pvalue=8.591768161160716e-50)\n",
      "\n",
      "top-10: res.correlation=0.8545454545454544\n",
      "top-20: res.correlation=0.9233082706766916\n",
      "top-50: res.correlation=0.8915726290516206\n",
      "top-100: res.correlation=0.7727572757275726\n",
      "top-200: res.correlation=0.610360895386021\n",
      "top-500: res.correlation=0.5065665496022397\n",
      "top-750: res.correlation=0.5388024276906572\n",
      "top-1000: res.correlation=0.5622895940938863\n"
     ]
    }
   ],
   "source": [
    "# compute word rank and than split-half-correlation\n",
    "random_state = 42  # for reproducibility\n",
    "idx_shuffled = shuffle(df_tokens_weighted_filtered.index.values, random_state=random_state)\n",
    "half_1, half_2 = idx_shuffled[:len(idx_shuffled) // 2], idx_shuffled[len(idx_shuffled) // 2:]\n",
    "df_tok_1, df_tok_2 = df_tokens_weighted_filtered[half_1], df_tokens_weighted_filtered[half_2]\n",
    "\n",
    "def _get_ranks(df_doc):\n",
    "    types = collections.Counter()\n",
    "    for doc in df_doc.values.tolist():\n",
    "        types.update(doc)\n",
    "    ordered = types.most_common()\n",
    "    return {word: rank for rank, (word, _) in enumerate(ordered, 1)}\n",
    "\n",
    "ranks_1, ranks_2 = _get_ranks(df_tok_1), _get_ranks(df_tok_2)\n",
    "print(\"Ranks (half/1): \", \", \".join(w for w, _ in list(ranks_1.items())[:10]))\n",
    "print(\"Ranks (half/2): \", \", \".join(w for w, _ in list(ranks_2.items())[:10]))\n",
    "print()\n",
    "\n",
    "ranklist_1 = np.array([ranks_1.get(word, None) for word in types_top_N.keys()], dtype=np.float)\n",
    "ranklist_2 = np.array([ranks_2.get(word, None) for word in types_top_N.keys()], dtype=np.float)\n",
    "# pd.DataFrame([types_all, ranklist_1, ranklist_2]).T.rename(columns={1: \"words\", 1: \"half-1\", 2: \"half-2\"})\n",
    "\n",
    "res = scipy.stats.spearmanr(ranklist_1, ranklist_2, nan_policy=\"omit\", alternative=\"greater\")\n",
    "print(res)\n",
    "print()\n",
    "\n",
    "for cutoff in (10, 20, 50, 100, 200, 500, 750, 1000):\n",
    "    ranklist_1_sub, ranklist_2_sub = ranklist_1[:cutoff], ranklist_2[:cutoff]\n",
    "\n",
    "    res = scipy.stats.spearmanr(ranklist_1_sub, ranklist_2_sub, nan_policy=\"omit\")\n",
    "    print(f\"top-{cutoff}: {res.correlation=}\")\n"
   ]
  },
  {
   "cell_type": "code",
   "execution_count": 38,
   "metadata": {},
   "outputs": [
    {
     "data": {
      "image/png": "[encoded data removed]",
      "text/plain": [
       "<Figure size 640x480 with 1 Axes>"
      ]
     },
     "metadata": {},
     "output_type": "display_data"
    }
   ],
   "source": [
    "ranks = np.arange(1, N)\n",
    "corrs = np.array([scipy.stats.spearmanr(ranklist_1[:cutoff], ranklist_2[:cutoff], nan_policy=\"omit\").correlation for cutoff in ranks])\n",
    "\n",
    "# https://stackoverflow.com/questions/20618804/how-to-smooth-a-curve-in-the-right-way\n",
    "# https://stackoverflow.com/questions/11352047/finding-moving-average-from-data-points-in-python/34387987#34387987\n",
    "\n",
    "from scipy.signal import savgol_filter\n",
    "corrshat = savgol_filter(corrs, 41, 1) # window size 51, polynomial order 1\n",
    "\n",
    "# def smooth(y, box_pts):\n",
    "#     box = np.ones(box_pts)/box_pts\n",
    "#     y_smooth = np.convolve(y, box, mode='same')\n",
    "#     return y_smooth\n",
    "# corrshat = smooth(corrs, 51)\n",
    "\n",
    "# import statsmodels as sm\n",
    "# import statsmodels.nonparametric.smoothers_lowess\n",
    "# win = 31\n",
    "# corrshat = sm.nonparametric.smoothers_lowess.lowess(corrs, ranks, frac=(5*win / len(corrs)), return_sorted=False)\n",
    "\n",
    "plt.plot(ranks, corrs)\n",
    "plt.plot(ranks, corrshat)\n",
    "plt.title(\"Correlation at Rank\")\n",
    "plt.ylabel(\"Corrleation\")\n",
    "plt.xlabel(\"Rank\")\n",
    "plt.ylim((0, 1))\n",
    "plt.show()"
   ]
  },
  {
   "cell_type": "code",
   "execution_count": null,
   "metadata": {},
   "outputs": [],
   "source": [
    "# ?\n",
    "\n",
    "start = 500\n",
    "ende = 750\n",
    "ranks = np.arange(start + 10, ende)\n",
    "corrs = np.array([scipy.stats.spearmanr(ranklist_1[start:cutoff], ranklist_2[start:cutoff], nan_policy=\"omit\").correlation for cutoff in ranks])\n",
    "\n",
    "# https://stackoverflow.com/questions/20618804/how-to-smooth-a-curve-in-the-right-way\n",
    "# https://stackoverflow.com/questions/11352047/finding-moving-average-from-data-points-in-python/34387987#34387987\n",
    "\n",
    "from scipy.signal import savgol_filter\n",
    "corrshat = savgol_filter(corrs, 41, 1) # window size 51, polynomial order 1\n",
    "\n",
    "plt.plot(ranks, corrs)\n",
    "plt.plot(ranks, corrshat)\n",
    "plt.title(\"Correlation at Rank\")\n",
    "plt.ylabel(\"Corrleation\")\n",
    "plt.xlabel(\"Rank\")\n",
    "#plt.ylim((0, 1))\n",
    "plt.show()"
   ]
  },
  {
   "cell_type": "code",
   "execution_count": null,
   "metadata": {},
   "outputs": [],
   "source": []
  }
 ],
 "metadata": {
  "kernelspec": {
   "display_name": "venv",
   "language": "python",
   "name": "python3"
  },
  "language_info": {
   "codemirror_mode": {
    "name": "ipython",
    "version": 3
   },
   "file_extension": ".py",
   "mimetype": "text/x-python",
   "name": "python",
   "nbconvert_exporter": "python",
   "pygments_lexer": "ipython3",
   "version": "3.8.10"
  },
  "orig_nbformat": 4,
  "vscode": {
   "interpreter": {
    "hash": "00909e2ca2a2b852db835b984c01db5d56b3a1ad7fadd03544b4638cf5bc5640"
   }
  }
 },
 "nbformat": 4,
 "nbformat_minor": 2
}
